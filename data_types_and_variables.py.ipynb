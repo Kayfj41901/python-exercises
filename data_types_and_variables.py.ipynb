{
 "cells": [
  {
   "cell_type": "code",
   "execution_count": 1,
   "id": "70bc5331",
   "metadata": {},
   "outputs": [],
   "source": [
    "#You have rented some movies for your kids: The little mermaid (for 3 days), \n",
    "#Brother Bear (for 5 days, they love it), and Hercules (1 day, you don't know yet if they're going to like it).\n",
    "#If price for a movie per day is 3 dollars, how much will you have to pay?"
   ]
  },
  {
   "cell_type": "code",
   "execution_count": 2,
   "id": "39117e86",
   "metadata": {},
   "outputs": [],
   "source": [
    "the_little_mermaid = 3 "
   ]
  },
  {
   "cell_type": "code",
   "execution_count": 3,
   "id": "e7f98369",
   "metadata": {},
   "outputs": [],
   "source": [
    "brother_bear = 5"
   ]
  },
  {
   "cell_type": "code",
   "execution_count": 4,
   "id": "48533b68",
   "metadata": {},
   "outputs": [],
   "source": [
    "hercules = 1"
   ]
  },
  {
   "cell_type": "code",
   "execution_count": 10,
   "id": "1c89c978",
   "metadata": {},
   "outputs": [],
   "source": [
    "total_cost = (3*the_little_mermaid) + (3*brother_bear) + (3*hercules)"
   ]
  },
  {
   "cell_type": "code",
   "execution_count": 11,
   "id": "65e63577",
   "metadata": {},
   "outputs": [
    {
     "name": "stdout",
     "output_type": "stream",
     "text": [
      "27\n"
     ]
    }
   ],
   "source": [
    "print(total_cost)"
   ]
  },
  {
   "cell_type": "code",
   "execution_count": 12,
   "id": "60834110",
   "metadata": {},
   "outputs": [
    {
     "name": "stdout",
     "output_type": "stream",
     "text": [
      "7420\n"
     ]
    }
   ],
   "source": [
    "google_pay = 400 \n",
    "facebook_pay = 350 \n",
    "amazon_pay = 380 \n",
    "total_pay = (10 * facebook_pay) + (6 * google_pay ) + (4 * amazon_pay)\n",
    "print(total_pay)"
   ]
  },
  {
   "cell_type": "code",
   "execution_count": 19,
   "id": "5dc01da1",
   "metadata": {},
   "outputs": [
    {
     "ename": "NameError",
     "evalue": "name 'class_not_full' is not defined",
     "output_type": "error",
     "traceback": [
      "\u001b[0;31m---------------------------------------------------------------------------\u001b[0m",
      "\u001b[0;31mNameError\u001b[0m                                 Traceback (most recent call last)",
      "\u001b[0;32m/var/folders/lt/mq77_h29005b8q_dkwt9pz000000gn/T/ipykernel_81961/529371659.py\u001b[0m in \u001b[0;36m<module>\u001b[0;34m\u001b[0m\n\u001b[0;32m----> 1\u001b[0;31m \u001b[0mstudent_enrollment\u001b[0m \u001b[0;34m=\u001b[0m \u001b[0mclass_not_full\u001b[0m \u001b[0;32mand\u001b[0m \u001b[0mno_schedule_conflict\u001b[0m\u001b[0;34m\u001b[0m\u001b[0;34m\u001b[0m\u001b[0m\n\u001b[0m",
      "\u001b[0;31mNameError\u001b[0m: name 'class_not_full' is not defined"
     ]
    }
   ],
   "source": [
    "student_enrollment = class_not_full and no_schedule_conflict"
   ]
  },
  {
   "cell_type": "code",
   "execution_count": 21,
   "id": "fb54f566",
   "metadata": {},
   "outputs": [
    {
     "ename": "SyntaxError",
     "evalue": "cannot assign to function call (670488082.py, line 3)",
     "output_type": "error",
     "traceback": [
      "\u001b[0;36m  File \u001b[0;32m\"/var/folders/lt/mq77_h29005b8q_dkwt9pz000000gn/T/ipykernel_81961/670488082.py\"\u001b[0;36m, line \u001b[0;32m3\u001b[0m\n\u001b[0;31m    bool(product_offer)= purchase_more_than_two and not_expired\u001b[0m\n\u001b[0m    ^\u001b[0m\n\u001b[0;31mSyntaxError\u001b[0m\u001b[0;31m:\u001b[0m cannot assign to function call\n"
     ]
    }
   ],
   "source": [
    "purchase_more_than_two = True\n",
    "not_expired = True \n",
    "bool(product_offer)= purchase_more_than_two and not_expired \n",
    "premium_member = no_minimum_purchase_requirement\n",
    "bool(member_offer)= no_minimum_purchase_requirement + not_expired"
   ]
  },
  {
   "cell_type": "code",
   "execution_count": null,
   "id": "9529ce13",
   "metadata": {},
   "outputs": [],
   "source": []
  }
 ],
 "metadata": {
  "kernelspec": {
   "display_name": "Python 3 (ipykernel)",
   "language": "python",
   "name": "python3"
  },
  "language_info": {
   "codemirror_mode": {
    "name": "ipython",
    "version": 3
   },
   "file_extension": ".py",
   "mimetype": "text/x-python",
   "name": "python",
   "nbconvert_exporter": "python",
   "pygments_lexer": "ipython3",
   "version": "3.9.7"
  }
 },
 "nbformat": 4,
 "nbformat_minor": 5
}
