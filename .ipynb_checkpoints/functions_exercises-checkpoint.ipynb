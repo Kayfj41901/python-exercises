{
 "cells": [
  {
   "cell_type": "code",
   "execution_count": 22,
   "id": "f408d3cf",
   "metadata": {},
   "outputs": [
    {
     "name": "stdout",
     "output_type": "stream",
     "text": [
      "False\n"
     ]
    }
   ],
   "source": [
    "#1\n",
    "def is_two(betty):\n",
    "    if betty == 2 or betty == \"2\":\n",
    "        return True\n",
    "    else:\n",
    "        return False\n",
    "print(is_two(5))"
   ]
  },
  {
   "cell_type": "code",
   "execution_count": 27,
   "id": "e549f99c",
   "metadata": {},
   "outputs": [
    {
     "name": "stdout",
     "output_type": "stream",
     "text": [
      "False\n"
     ]
    }
   ],
   "source": [
    "#2\n",
    "def is_vowel(charlie):\n",
    "    if charlie in ('aeiouAEIOU'):\n",
    "        return True \n",
    "    else:\n",
    "        return False\n",
    "print(is_vowel('f'))"
   ]
  },
  {
   "cell_type": "code",
   "execution_count": 66,
   "id": "a591c284",
   "metadata": {},
   "outputs": [
    {
     "name": "stdout",
     "output_type": "stream",
     "text": [
      "True\n"
     ]
    }
   ],
   "source": [
    "def is_consonant2(abbba):\n",
    "    if is_vowel(abbba):\n",
    "        return False\n",
    "    else: \n",
    "        return True\n",
    "print(is_consonant2('m'))"
   ]
  },
  {
   "cell_type": "code",
   "execution_count": 29,
   "id": "f4487ee6",
   "metadata": {},
   "outputs": [
    {
     "name": "stdout",
     "output_type": "stream",
     "text": [
      "False\n"
     ]
    }
   ],
   "source": [
    "#3\n",
    "david = \"v\"\n",
    "def is_consonant(david):\n",
    "    if david not in ('aeiouAEIOU'):\n",
    "        return True \n",
    "    else:\n",
    "        return False\n",
    "print(is_consonant('a'))"
   ]
  },
  {
   "cell_type": "code",
   "execution_count": 33,
   "id": "1a3eeb0a",
   "metadata": {},
   "outputs": [
    {
     "name": "stdout",
     "output_type": "stream",
     "text": [
      "Max\n"
     ]
    }
   ],
   "source": [
    "#4\n",
    "def cap(ella):\n",
    "    if is_consonant(ella[0]):\n",
    "        return ella.capitalize()\n",
    "print(cap(\"max\"))"
   ]
  },
  {
   "cell_type": "code",
   "execution_count": 67,
   "id": "6603d215",
   "metadata": {},
   "outputs": [
    {
     "name": "stdout",
     "output_type": "stream",
     "text": [
      "22.0\n"
     ]
    }
   ],
   "source": [
    "#5\n",
    "def calculate_tip(tip_percentage, bill_total): \n",
    "    return bill_total * tip_percentage\n",
    "\n",
    "print(calculate_tip( .22, 100))"
   ]
  },
  {
   "cell_type": "code",
   "execution_count": 35,
   "id": "8ca8f80a",
   "metadata": {},
   "outputs": [
    {
     "name": "stdout",
     "output_type": "stream",
     "text": [
      "62.0\n"
     ]
    }
   ],
   "source": [
    "#6\n",
    "def apply_discount(original_price, discount_percentage):\n",
    "    return original_price * (1 - discount_percentage)\n",
    "print(apply_discount(100, .38))"
   ]
  },
  {
   "cell_type": "code",
   "execution_count": 46,
   "id": "4ccf4156",
   "metadata": {},
   "outputs": [
    {
     "name": "stdout",
     "output_type": "stream",
     "text": [
      "1000000\n"
     ]
    }
   ],
   "source": [
    "#7\n",
    "def handle_commas(foxtrot):\n",
    "    foxtrot = foxtrot.replace(',','')\n",
    "    return foxtrot\n",
    "\n",
    "\n",
    "print(handle_commas('1,000,000'))"
   ]
  },
  {
   "cell_type": "code",
   "execution_count": 52,
   "id": "97f5c5e2",
   "metadata": {},
   "outputs": [
    {
     "name": "stdout",
     "output_type": "stream",
     "text": [
      "D\n"
     ]
    }
   ],
   "source": [
    "#8\n",
    "grade = 95\n",
    "def get_letter_grade(grade):\n",
    "    if grade >= 90:\n",
    "        return \"A\"\n",
    "    elif grade >= 80 and grade <= 89:\n",
    "        return \"B\"\n",
    "    elif grade >= 70 and grade <= 79:\n",
    "        return \"c\"\n",
    "    elif grade >= 60 and grade <= 69:\n",
    "        return \"D\"\n",
    "    else: \n",
    "        return \"F\"\n",
    "print(get_letter_grade(62))"
   ]
  },
  {
   "cell_type": "code",
   "execution_count": 53,
   "id": "2d59a97b",
   "metadata": {},
   "outputs": [
    {
     "name": "stdout",
     "output_type": "stream",
     "text": [
      "Hrrsn\n"
     ]
    }
   ],
   "source": [
    "#9\n",
    "def remove_vowels(x):\n",
    "  for i in \"aeiouAEIOU\":\n",
    "    x = x.replace(i,\"\")\n",
    "  return x\n",
    "print(remove_vowels('Harrison'))"
   ]
  },
  {
   "cell_type": "markdown",
   "id": "1c20518c",
   "metadata": {},
   "source": [
    "Define a function named normalize_name. It should accept a string and return a valid python identifier, that is:\n",
    "anything that is not a valid python identifier should be removed\n",
    "leading and trailing whitespace should be removed\n",
    "everything should be lowercase\n",
    "spaces should be replaced with underscores\n",
    "for example:\n",
    "Name will become name\n",
    "First Name will become first_name\n",
    "% Completed will become completed"
   ]
  },
  {
   "cell_type": "code",
   "execution_count": 2,
   "id": "171b101b",
   "metadata": {},
   "outputs": [],
   "source": [
    "\n",
    "#x[0] = not int or float\n",
    "# possibly x = x.str.replace([{bad_words}, \"    \")\n",
    "###can't only contain digits \n",
    "#just need to change to lowercase and order the code properly \n",
    "def normalize_name(username): \n",
    "    username= ''.join([i for i in username if i not in('@', '$', '%')])\n",
    "    username= username.strip().lower().replace(' ', '_')\n",
    "    return username "
   ]
  },
  {
   "cell_type": "markdown",
   "id": "7336a31f",
   "metadata": {},
   "source": [
    "Write a function named cumulative_sum that accepts a list of numbers and returns a list that is the cumulative sum of the numbers in the list."
   ]
  },
  {
   "cell_type": "code",
   "execution_count": 3,
   "id": "948643a8",
   "metadata": {},
   "outputs": [],
   "source": [
    "def cumulative_sum(lst): \n",
    "    return[sum(lst[:i] for i in range(1,len(lst)+1))]\n"
   ]
  },
  {
   "cell_type": "code",
   "execution_count": null,
   "id": "46dcb53e",
   "metadata": {},
   "outputs": [],
   "source": []
  }
 ],
 "metadata": {
  "kernelspec": {
   "display_name": "Python 3 (ipykernel)",
   "language": "python",
   "name": "python3"
  },
  "language_info": {
   "codemirror_mode": {
    "name": "ipython",
    "version": 3
   },
   "file_extension": ".py",
   "mimetype": "text/x-python",
   "name": "python",
   "nbconvert_exporter": "python",
   "pygments_lexer": "ipython3",
   "version": "3.9.7"
  }
 },
 "nbformat": 4,
 "nbformat_minor": 5
}
