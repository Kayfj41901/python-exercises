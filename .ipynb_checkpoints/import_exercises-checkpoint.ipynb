{
 "cells": [
  {
   "cell_type": "code",
   "execution_count": 1,
   "id": "d871f2e9",
   "metadata": {
    "scrolled": true
   },
   "outputs": [],
   "source": [
    "import functions_exercises"
   ]
  },
  {
   "cell_type": "code",
   "execution_count": 2,
   "id": "0fcaf180",
   "metadata": {},
   "outputs": [],
   "source": [
    "import itertools"
   ]
  },
  {
   "cell_type": "markdown",
   "id": "8f9b43e0",
   "metadata": {},
   "source": [
    "1. Import and test 3 of the functions from your functions exercise file. Import each function in a different way: "
   ]
  },
  {
   "cell_type": "code",
   "execution_count": 3,
   "id": "cf29c018",
   "metadata": {
    "scrolled": true
   },
   "outputs": [
    {
     "data": {
      "text/plain": [
       "'hrrsn'"
      ]
     },
     "execution_count": 3,
     "metadata": {},
     "output_type": "execute_result"
    }
   ],
   "source": [
    "functions_exercises.remove_vowels(\"harrison\")"
   ]
  },
  {
   "cell_type": "code",
   "execution_count": 4,
   "id": "416d2769",
   "metadata": {},
   "outputs": [
    {
     "data": {
      "text/plain": [
       "'D'"
      ]
     },
     "execution_count": 4,
     "metadata": {},
     "output_type": "execute_result"
    }
   ],
   "source": [
    "functions_exercises.get_letter_grade(62)"
   ]
  },
  {
   "cell_type": "code",
   "execution_count": 5,
   "id": "2832738d",
   "metadata": {},
   "outputs": [
    {
     "data": {
      "text/plain": [
       "18.0"
      ]
     },
     "execution_count": 5,
     "metadata": {},
     "output_type": "execute_result"
    }
   ],
   "source": [
    "functions_exercises.calculate_tip( .18, 100)"
   ]
  },
  {
   "cell_type": "markdown",
   "id": "19de943a",
   "metadata": {},
   "source": [
    "How many different ways can you combine the letters from \"abc\" with the numbers 1, 2, and 3?"
   ]
  },
  {
   "cell_type": "code",
   "execution_count": 6,
   "id": "01212a82",
   "metadata": {},
   "outputs": [
    {
     "data": {
      "text/plain": [
       "[('a', '1'),\n",
       " ('a', '2'),\n",
       " ('a', '3'),\n",
       " ('b', '1'),\n",
       " ('b', '2'),\n",
       " ('b', '3'),\n",
       " ('c', '1'),\n",
       " ('c', '2'),\n",
       " ('c', '3')]"
      ]
     },
     "execution_count": 6,
     "metadata": {},
     "output_type": "execute_result"
    }
   ],
   "source": [
    "list(itertools.product('abc', '123'))"
   ]
  },
  {
   "cell_type": "markdown",
   "id": "e5c8a15c",
   "metadata": {},
   "source": [
    "How many different combinations are there of 2 letters from \"abcd\"?"
   ]
  },
  {
   "cell_type": "code",
   "execution_count": 7,
   "id": "c25f0c08",
   "metadata": {},
   "outputs": [
    {
     "data": {
      "text/plain": [
       "[('a', 'b'), ('a', 'c'), ('a', 'd'), ('b', 'c'), ('b', 'd'), ('c', 'd')]"
      ]
     },
     "execution_count": 7,
     "metadata": {},
     "output_type": "execute_result"
    }
   ],
   "source": [
    "list(itertools.combinations('abcd', 2))\n"
   ]
  },
  {
   "cell_type": "markdown",
   "id": "189f2277",
   "metadata": {},
   "source": [
    "How many different permutations are there of 2 letters from \"abcd\"?"
   ]
  },
  {
   "cell_type": "code",
   "execution_count": 8,
   "id": "99971274",
   "metadata": {},
   "outputs": [
    {
     "data": {
      "text/plain": [
       "[('a', 'b'),\n",
       " ('a', 'c'),\n",
       " ('a', 'd'),\n",
       " ('b', 'a'),\n",
       " ('b', 'c'),\n",
       " ('b', 'd'),\n",
       " ('c', 'a'),\n",
       " ('c', 'b'),\n",
       " ('c', 'd'),\n",
       " ('d', 'a'),\n",
       " ('d', 'b'),\n",
       " ('d', 'c')]"
      ]
     },
     "execution_count": 8,
     "metadata": {},
     "output_type": "execute_result"
    }
   ],
   "source": [
    "list(itertools.permutations('abcd', 2))"
   ]
  },
  {
   "cell_type": "code",
   "execution_count": 9,
   "id": "750f5d76",
   "metadata": {},
   "outputs": [],
   "source": [
    "import json"
   ]
  },
  {
   "cell_type": "code",
   "execution_count": 10,
   "id": "966fadaa",
   "metadata": {},
   "outputs": [],
   "source": [
    "profiles = json.load(open('profiles.json'))"
   ]
  },
  {
   "cell_type": "code",
   "execution_count": 11,
   "id": "396d19a9",
   "metadata": {},
   "outputs": [
    {
     "data": {
      "text/plain": [
       "[{'_id': '54e23c3e46ab53a440b580e8',\n",
       "  'index': 0,\n",
       "  'guid': '9962b468-ef3e-4993-b677-617469bc3008',\n",
       "  'isActive': False,\n",
       "  'balance': '$2,097.02',\n",
       "  'picture': 'http://placehold.it/32x32',\n",
       "  'age': 39,\n",
       "  'eyeColor': 'blue',\n",
       "  'name': 'Hebert Estes',\n",
       "  'gender': 'male',\n",
       "  'company': 'ANDRYX',\n",
       "  'email': 'hebertestes@andryx.com',\n",
       "  'phone': '+1 (866) 456-2268',\n",
       "  'address': '121 Emmons Avenue, Klondike, Kentucky, 5975',\n",
       "  'about': 'Sit cillum deserunt irure laboris tempor fugiat laboris. Amet commodo amet est incididunt. Dolore qui fugiat cillum pariatur dolore excepteur elit ipsum.\\r\\n',\n",
       "  'registered': '2014-11-10T01:44:03 +06:00',\n",
       "  'latitude': -80.157843,\n",
       "  'longitude': 161.93016,\n",
       "  'tags': ['sit', 'occaecat', 'non', 'ea', 'sit', 'laboris', 'exercitation'],\n",
       "  'friends': [{'id': 0, 'name': 'Tanisha Leonard'},\n",
       "   {'id': 1, 'name': 'Dennis Wilson'},\n",
       "   {'id': 2, 'name': 'Lupe Howe'}],\n",
       "  'greeting': 'Hello, Hebert Estes! You have 4 unread messages.',\n",
       "  'favoriteFruit': 'strawberry'},\n",
       " {'_id': '54e23c3ef5cc0d250968c212',\n",
       "  'index': 1,\n",
       "  'guid': '905f849d-49bf-4a57-b4f3-5d6e4bf1b04c',\n",
       "  'isActive': False,\n",
       "  'balance': '$3,654.02',\n",
       "  'picture': 'http://placehold.it/32x32',\n",
       "  'age': 30,\n",
       "  'eyeColor': 'green',\n",
       "  'name': 'Allison Wynn',\n",
       "  'gender': 'male',\n",
       "  'company': 'PHARMACON',\n",
       "  'email': 'allisonwynn@pharmacon.com',\n",
       "  'phone': '+1 (926) 525-3131',\n",
       "  'address': '724 Brevoort Place, Lodoga, Indiana, 3880',\n",
       "  'about': 'Esse quis cillum sunt occaecat ad et eu incididunt aliquip dolor. Adipisicing labore magna anim cillum nisi. Elit mollit consequat velit nulla cillum excepteur elit ullamco deserunt. Anim aliquip Lorem excepteur ad veniam et labore in qui ullamco. Occaecat sit do incididunt voluptate id magna ea amet.\\r\\n',\n",
       "  'registered': '2014-06-10T13:41:26 +05:00',\n",
       "  'latitude': 55.737207,\n",
       "  'longitude': -167.177561,\n",
       "  'tags': ['enim',\n",
       "   'officia',\n",
       "   'laboris',\n",
       "   'irure',\n",
       "   'veniam',\n",
       "   'occaecat',\n",
       "   'pariatur'],\n",
       "  'friends': [{'id': 0, 'name': 'Curry Cox'},\n",
       "   {'id': 1, 'name': 'Alma Dale'},\n",
       "   {'id': 2, 'name': 'Barbara Mayo'}],\n",
       "  'greeting': 'Hello, Allison Wynn! You have 19 unread messages.',\n",
       "  'favoriteFruit': 'apple'}]"
      ]
     },
     "execution_count": 11,
     "metadata": {},
     "output_type": "execute_result"
    }
   ],
   "source": [
    "profiles[:2]"
   ]
  },
  {
   "cell_type": "markdown",
   "id": "021214e0",
   "metadata": {},
   "source": [
    "Total number of users: "
   ]
  },
  {
   "cell_type": "code",
   "execution_count": 12,
   "id": "71c2a2a6",
   "metadata": {},
   "outputs": [
    {
     "name": "stdout",
     "output_type": "stream",
     "text": [
      "19\n"
     ]
    }
   ],
   "source": [
    "total_number_users = len(profiles)\n",
    "print(total_number_users)"
   ]
  },
  {
   "cell_type": "markdown",
   "id": "c437b5ae",
   "metadata": {},
   "source": [
    "Total number of active users: "
   ]
  },
  {
   "cell_type": "code",
   "execution_count": 13,
   "id": "2c862782",
   "metadata": {},
   "outputs": [
    {
     "name": "stdout",
     "output_type": "stream",
     "text": [
      "9\n"
     ]
    }
   ],
   "source": [
    "counter = 0 \n",
    "for i in range(0, 19):\n",
    "    active = profiles[i][\"isActive\"]\n",
    "    if active == True:\n",
    "        counter += 1\n",
    "print(counter)\n",
    "        "
   ]
  },
  {
   "cell_type": "markdown",
   "id": "b37f2f20",
   "metadata": {},
   "source": [
    "Total number of inactive users: "
   ]
  },
  {
   "cell_type": "code",
   "execution_count": 14,
   "id": "82b7e6f3",
   "metadata": {},
   "outputs": [
    {
     "name": "stdout",
     "output_type": "stream",
     "text": [
      "10\n"
     ]
    }
   ],
   "source": [
    "counter = 0 \n",
    "for i in range(0, 19):\n",
    "    active = profiles[i][\"isActive\"]\n",
    "    if active == False:\n",
    "        counter += 1\n",
    "print(counter)\n",
    "        "
   ]
  },
  {
   "cell_type": "markdown",
   "id": "729217e1",
   "metadata": {},
   "source": [
    "Grand total of balances for all users:"
   ]
  },
  {
   "cell_type": "code",
   "execution_count": 50,
   "id": "9aeced34",
   "metadata": {
    "scrolled": true
   },
   "outputs": [
    {
     "ename": "TypeError",
     "evalue": "'float' object is not callable",
     "output_type": "error",
     "traceback": [
      "\u001b[0;31m---------------------------------------------------------------------------\u001b[0m",
      "\u001b[0;31mTypeError\u001b[0m                                 Traceback (most recent call last)",
      "\u001b[0;32m/var/folders/lt/mq77_h29005b8q_dkwt9pz000000gn/T/ipykernel_12979/4267106036.py\u001b[0m in \u001b[0;36m<module>\u001b[0;34m\u001b[0m\n\u001b[1;32m     13\u001b[0m \u001b[0;34m\u001b[0m\u001b[0m\n\u001b[1;32m     14\u001b[0m \u001b[0;34m\u001b[0m\u001b[0m\n\u001b[0;32m---> 15\u001b[0;31m \u001b[0mfloats\u001b[0m \u001b[0;34m=\u001b[0m \u001b[0;34m[\u001b[0m\u001b[0mfloat\u001b[0m\u001b[0;34m(\u001b[0m\u001b[0mb\u001b[0m\u001b[0;34m)\u001b[0m \u001b[0;32mfor\u001b[0m \u001b[0mb\u001b[0m \u001b[0;32min\u001b[0m \u001b[0mtotal_balance_float\u001b[0m\u001b[0;34m]\u001b[0m\u001b[0;34m\u001b[0m\u001b[0;34m\u001b[0m\u001b[0m\n\u001b[0m\u001b[1;32m     16\u001b[0m \u001b[0;34m\u001b[0m\u001b[0m\n\u001b[1;32m     17\u001b[0m \u001b[0msum\u001b[0m\u001b[0;34m(\u001b[0m\u001b[0mfloats\u001b[0m\u001b[0;34m)\u001b[0m\u001b[0;34m\u001b[0m\u001b[0;34m\u001b[0m\u001b[0m\n",
      "\u001b[0;32m/var/folders/lt/mq77_h29005b8q_dkwt9pz000000gn/T/ipykernel_12979/4267106036.py\u001b[0m in \u001b[0;36m<listcomp>\u001b[0;34m(.0)\u001b[0m\n\u001b[1;32m     13\u001b[0m \u001b[0;34m\u001b[0m\u001b[0m\n\u001b[1;32m     14\u001b[0m \u001b[0;34m\u001b[0m\u001b[0m\n\u001b[0;32m---> 15\u001b[0;31m \u001b[0mfloats\u001b[0m \u001b[0;34m=\u001b[0m \u001b[0;34m[\u001b[0m\u001b[0mfloat\u001b[0m\u001b[0;34m(\u001b[0m\u001b[0mb\u001b[0m\u001b[0;34m)\u001b[0m \u001b[0;32mfor\u001b[0m \u001b[0mb\u001b[0m \u001b[0;32min\u001b[0m \u001b[0mtotal_balance_float\u001b[0m\u001b[0;34m]\u001b[0m\u001b[0;34m\u001b[0m\u001b[0;34m\u001b[0m\u001b[0m\n\u001b[0m\u001b[1;32m     16\u001b[0m \u001b[0;34m\u001b[0m\u001b[0m\n\u001b[1;32m     17\u001b[0m \u001b[0msum\u001b[0m\u001b[0;34m(\u001b[0m\u001b[0mfloats\u001b[0m\u001b[0;34m)\u001b[0m\u001b[0;34m\u001b[0m\u001b[0;34m\u001b[0m\u001b[0m\n",
      "\u001b[0;31mTypeError\u001b[0m: 'float' object is not callable"
     ]
    }
   ],
   "source": [
    "total_balance = []\n",
    "for i in range(0, 19):\n",
    "    r = profiles[i][\"balance\"]\n",
    "    total_balance.append(r)\n",
    "    \n",
    "\n",
    "\n",
    "total_balance_float = []\n",
    "for balance in total_balance:\n",
    "    c = balance.replace('$','').replace(',','')\n",
    "    total_balance_float.append(c)\n",
    "\n",
    "\n",
    "\n",
    "floats = [float(b) for b in total_balance_float]\n",
    "\n",
    "sum(floats)\n"
   ]
  },
  {
   "cell_type": "code",
   "execution_count": 51,
   "id": "06a06e0e",
   "metadata": {},
   "outputs": [
    {
     "data": {
      "text/plain": [
       "52667.02"
      ]
     },
     "execution_count": 51,
     "metadata": {},
     "output_type": "execute_result"
    }
   ],
   "source": [
    "sum(floats)"
   ]
  },
  {
   "cell_type": "markdown",
   "id": "375d8433",
   "metadata": {},
   "source": [
    "Average balance per user: "
   ]
  },
  {
   "cell_type": "code",
   "execution_count": 49,
   "id": "75c269e6",
   "metadata": {},
   "outputs": [
    {
     "data": {
      "text/plain": [
       "2771.9484210526316"
      ]
     },
     "execution_count": 49,
     "metadata": {},
     "output_type": "execute_result"
    }
   ],
   "source": [
    "(sum(floats))/(len(floats))\n",
    "    "
   ]
  },
  {
   "cell_type": "markdown",
   "id": "5c6197cc",
   "metadata": {},
   "source": [
    "User with the lowest balance: "
   ]
  },
  {
   "cell_type": "code",
   "execution_count": 41,
   "id": "bee42c63",
   "metadata": {},
   "outputs": [
    {
     "data": {
      "text/plain": [
       "1214.1"
      ]
     },
     "execution_count": 41,
     "metadata": {},
     "output_type": "execute_result"
    }
   ],
   "source": [
    "min(floats)"
   ]
  },
  {
   "cell_type": "markdown",
   "id": "11bc0def",
   "metadata": {},
   "source": [
    "User with the highest balance: "
   ]
  },
  {
   "cell_type": "code",
   "execution_count": 42,
   "id": "5b5999c3",
   "metadata": {},
   "outputs": [
    {
     "data": {
      "text/plain": [
       "3919.64"
      ]
     },
     "execution_count": 42,
     "metadata": {},
     "output_type": "execute_result"
    }
   ],
   "source": [
    "max(floats)"
   ]
  },
  {
   "cell_type": "markdown",
   "id": "5b96ffed",
   "metadata": {},
   "source": [
    "Most common favorite fruit: "
   ]
  },
  {
   "cell_type": "code",
   "execution_count": 59,
   "id": "22c9f36c",
   "metadata": {},
   "outputs": [
    {
     "name": "stdout",
     "output_type": "stream",
     "text": [
      "9 strawberries\n",
      "4 apples\n",
      "6 bananas\n",
      "Strawberries are the most common favorite fruit\n"
     ]
    }
   ],
   "source": [
    "favorite_fruit = []\n",
    "for i in range(0, 19):\n",
    "    p = profiles[i][\"favoriteFruit\"]\n",
    "    favorite_fruit.append(p)\n",
    "    \n",
    "\n",
    "strawberry_counter = 0 \n",
    "for fruit in favorite_fruit:\n",
    "    if fruit == \"strawberry\":\n",
    "     strawberry_counter += 1\n",
    "\n",
    "apple_counter = 0 \n",
    "for fruit in favorite_fruit:\n",
    "    if fruit == \"apple\":\n",
    "     apple_counter += 1\n",
    "    \n",
    "banana_counter = 0 \n",
    "for fruit in favorite_fruit:\n",
    "    if fruit == \"banana\":\n",
    "     banana_counter += 1\n",
    "    \n",
    "print(f'{strawberry_counter} strawberries')\n",
    "print(f'{apple_counter} apples')\n",
    "print(f'{banana_counter} bananas')\n",
    "print(\"Strawberries are the most common favorite fruit\")"
   ]
  },
  {
   "cell_type": "markdown",
   "id": "9b338c91",
   "metadata": {},
   "source": [
    "Least most common favorite fruit:"
   ]
  },
  {
   "cell_type": "code",
   "execution_count": 60,
   "id": "9a17be79",
   "metadata": {},
   "outputs": [
    {
     "name": "stdout",
     "output_type": "stream",
     "text": [
      "The least common favorite fruit are apples\n",
      "The least most common favorite fruit are bananas\n"
     ]
    }
   ],
   "source": [
    "print(\"The least common favorite fruit are apples\")\n",
    "print(\"The least most common favorite fruit are bananas\")"
   ]
  },
  {
   "cell_type": "markdown",
   "id": "cdbac8a6",
   "metadata": {},
   "source": [
    "Total number of unread messages for all users: "
   ]
  },
  {
   "cell_type": "code",
   "execution_count": 69,
   "id": "796e0488",
   "metadata": {},
   "outputs": [
    {
     "name": "stdout",
     "output_type": "stream",
     "text": [
      "['4', '19', '5', '10', '9', '19', '13', '17', '2', '18', '2', '13', '7', '13', '12', '7', '19', '5', '16']\n"
     ]
    },
    {
     "ename": "TypeError",
     "evalue": "'float' object is not callable",
     "output_type": "error",
     "traceback": [
      "\u001b[0;31m---------------------------------------------------------------------------\u001b[0m",
      "\u001b[0;31mTypeError\u001b[0m                                 Traceback (most recent call last)",
      "\u001b[0;32m/var/folders/lt/mq77_h29005b8q_dkwt9pz000000gn/T/ipykernel_12979/3512347363.py\u001b[0m in \u001b[0;36m<module>\u001b[0;34m\u001b[0m\n\u001b[1;32m     12\u001b[0m \u001b[0mprint\u001b[0m\u001b[0;34m(\u001b[0m\u001b[0mnumbers\u001b[0m\u001b[0;34m)\u001b[0m\u001b[0;34m\u001b[0m\u001b[0;34m\u001b[0m\u001b[0m\n\u001b[1;32m     13\u001b[0m \u001b[0;34m\u001b[0m\u001b[0m\n\u001b[0;32m---> 14\u001b[0;31m \u001b[0munread_messages\u001b[0m \u001b[0;34m=\u001b[0m \u001b[0;34m[\u001b[0m\u001b[0mfloat\u001b[0m\u001b[0;34m(\u001b[0m\u001b[0me\u001b[0m\u001b[0;34m)\u001b[0m \u001b[0;32mfor\u001b[0m \u001b[0me\u001b[0m \u001b[0;32min\u001b[0m \u001b[0mall_greetings\u001b[0m\u001b[0;34m]\u001b[0m\u001b[0;34m\u001b[0m\u001b[0;34m\u001b[0m\u001b[0m\n\u001b[0m\u001b[1;32m     15\u001b[0m \u001b[0;34m\u001b[0m\u001b[0m\n\u001b[1;32m     16\u001b[0m \u001b[0mprint\u001b[0m\u001b[0;34m(\u001b[0m\u001b[0munread_messages\u001b[0m\u001b[0;34m)\u001b[0m\u001b[0;34m\u001b[0m\u001b[0;34m\u001b[0m\u001b[0m\n",
      "\u001b[0;32m/var/folders/lt/mq77_h29005b8q_dkwt9pz000000gn/T/ipykernel_12979/3512347363.py\u001b[0m in \u001b[0;36m<listcomp>\u001b[0;34m(.0)\u001b[0m\n\u001b[1;32m     12\u001b[0m \u001b[0mprint\u001b[0m\u001b[0;34m(\u001b[0m\u001b[0mnumbers\u001b[0m\u001b[0;34m)\u001b[0m\u001b[0;34m\u001b[0m\u001b[0;34m\u001b[0m\u001b[0m\n\u001b[1;32m     13\u001b[0m \u001b[0;34m\u001b[0m\u001b[0m\n\u001b[0;32m---> 14\u001b[0;31m \u001b[0munread_messages\u001b[0m \u001b[0;34m=\u001b[0m \u001b[0;34m[\u001b[0m\u001b[0mfloat\u001b[0m\u001b[0;34m(\u001b[0m\u001b[0me\u001b[0m\u001b[0;34m)\u001b[0m \u001b[0;32mfor\u001b[0m \u001b[0me\u001b[0m \u001b[0;32min\u001b[0m \u001b[0mall_greetings\u001b[0m\u001b[0;34m]\u001b[0m\u001b[0;34m\u001b[0m\u001b[0;34m\u001b[0m\u001b[0m\n\u001b[0m\u001b[1;32m     15\u001b[0m \u001b[0;34m\u001b[0m\u001b[0m\n\u001b[1;32m     16\u001b[0m \u001b[0mprint\u001b[0m\u001b[0;34m(\u001b[0m\u001b[0munread_messages\u001b[0m\u001b[0;34m)\u001b[0m\u001b[0;34m\u001b[0m\u001b[0;34m\u001b[0m\u001b[0m\n",
      "\u001b[0;31mTypeError\u001b[0m: 'float' object is not callable"
     ]
    }
   ],
   "source": [
    "all_greetings = []\n",
    "for i in range(0, 19):\n",
    "    x = profiles[i][\"greeting\"]\n",
    "    all_greetings.append(x)\n",
    "    \n",
    "\n",
    "numbers = []\n",
    "for item in all_greetings:\n",
    "    for subitem in item.split():\n",
    "        if(subitem.isdigit()):\n",
    "            numbers.append(subitem)\n",
    "print(numbers)\n",
    "\n",
    "unread_messages = [float(e) for e in all_greetings]\n",
    "\n",
    "print(unread_messages)\n",
    "\n"
   ]
  },
  {
   "cell_type": "code",
   "execution_count": 70,
   "id": "d455701b",
   "metadata": {},
   "outputs": [
    {
     "ename": "NameError",
     "evalue": "name 'unread_messages' is not defined",
     "output_type": "error",
     "traceback": [
      "\u001b[0;31m---------------------------------------------------------------------------\u001b[0m",
      "\u001b[0;31mNameError\u001b[0m                                 Traceback (most recent call last)",
      "\u001b[0;32m/var/folders/lt/mq77_h29005b8q_dkwt9pz000000gn/T/ipykernel_12979/3669139873.py\u001b[0m in \u001b[0;36m<module>\u001b[0;34m\u001b[0m\n\u001b[0;32m----> 1\u001b[0;31m \u001b[0msum\u001b[0m\u001b[0;34m(\u001b[0m\u001b[0munread_messages\u001b[0m\u001b[0;34m)\u001b[0m\u001b[0;34m\u001b[0m\u001b[0;34m\u001b[0m\u001b[0m\n\u001b[0m",
      "\u001b[0;31mNameError\u001b[0m: name 'unread_messages' is not defined"
     ]
    }
   ],
   "source": [
    "sum(unread_messages)"
   ]
  },
  {
   "cell_type": "code",
   "execution_count": null,
   "id": "86aa4ead",
   "metadata": {},
   "outputs": [],
   "source": []
  }
 ],
 "metadata": {
  "kernelspec": {
   "display_name": "Python 3 (ipykernel)",
   "language": "python",
   "name": "python3"
  },
  "language_info": {
   "codemirror_mode": {
    "name": "ipython",
    "version": 3
   },
   "file_extension": ".py",
   "mimetype": "text/x-python",
   "name": "python",
   "nbconvert_exporter": "python",
   "pygments_lexer": "ipython3",
   "version": "3.9.7"
  }
 },
 "nbformat": 4,
 "nbformat_minor": 5
}
