{
 "cells": [
  {
   "cell_type": "code",
   "execution_count": 1,
   "id": "70bc5331",
   "metadata": {},
   "outputs": [],
   "source": [
    "#You have rented some movies for your kids: The little mermaid (for 3 days), \n",
    "#Brother Bear (for 5 days, they love it), and Hercules (1 day, you don't know yet if they're going to like it).\n",
    "#If price for a movie per day is 3 dollars, how much will you have to pay?"
   ]
  },
  {
   "cell_type": "code",
   "execution_count": 2,
   "id": "39117e86",
   "metadata": {},
   "outputs": [],
   "source": [
    "the_little_mermaid = 3 "
   ]
  },
  {
   "cell_type": "code",
   "execution_count": 3,
   "id": "e7f98369",
   "metadata": {},
   "outputs": [],
   "source": [
    "brother_bear = 5"
   ]
  },
  {
   "cell_type": "code",
   "execution_count": 4,
   "id": "48533b68",
   "metadata": {},
   "outputs": [],
   "source": [
    "hercules = 1"
   ]
  },
  {
   "cell_type": "code",
   "execution_count": 10,
   "id": "1c89c978",
   "metadata": {},
   "outputs": [],
   "source": [
    "total_cost = (3*the_little_mermaid) + (3*brother_bear) + (3*hercules)"
   ]
  },
  {
   "cell_type": "code",
   "execution_count": 11,
   "id": "65e63577",
   "metadata": {},
   "outputs": [
    {
     "name": "stdout",
     "output_type": "stream",
     "text": [
      "27\n"
     ]
    }
   ],
   "source": [
    "print(total_cost)"
   ]
  },
  {
   "cell_type": "code",
   "execution_count": 12,
   "id": "60834110",
   "metadata": {},
   "outputs": [
    {
     "name": "stdout",
     "output_type": "stream",
     "text": [
      "7420\n"
     ]
    }
   ],
   "source": [
    "google_pay = 400 \n",
    "facebook_pay = 350 \n",
    "amazon_pay = 380 \n",
    "total_pay = (10 * facebook_pay) + (6 * google_pay ) + (4 * amazon_pay)\n",
    "print(total_pay)"
   ]
  },
  {
   "cell_type": "code",
   "execution_count": 1,
   "id": "5dc01da1",
   "metadata": {},
   "outputs": [
    {
     "name": "stdout",
     "output_type": "stream",
     "text": [
      "True\n"
     ]
    }
   ],
   "source": [
    "class_not_full = True\n",
    "no_schedule_conflict = True\n",
    "student_enrollment = class_not_full and no_schedule_conflict\n",
    "print(student_enrollment)"
   ]
  },
  {
   "cell_type": "code",
   "execution_count": 2,
   "id": "fb54f566",
   "metadata": {},
   "outputs": [
    {
     "name": "stdout",
     "output_type": "stream",
     "text": [
      "True\n"
     ]
    }
   ],
   "source": [
    "purchase_more_than_two = True\n",
    "not_expired = True \n",
    "product_offer= purchase_more_than_two and not_expired \n",
    "print(product_offer)"
   ]
  },
  {
   "cell_type": "code",
   "execution_count": 4,
   "id": "3e0f07aa",
   "metadata": {},
   "outputs": [
    {
     "name": "stdout",
     "output_type": "stream",
     "text": [
      "True\n"
     ]
    }
   ],
   "source": [
    "premium_member = True\n",
    "member_offer= premium_member and not_expired\n",
    "print(member_offer)"
   ]
  },
  {
   "cell_type": "code",
   "execution_count": 4,
   "id": "9529ce13",
   "metadata": {},
   "outputs": [],
   "source": [
    "username = 'catalina'\n",
    "password = '3a3y3uggy'\n",
    "pw_len = len(password) >= 5\n",
    "un_len = len(username) <=20\n",
    "password_different_username = username != password"
   ]
  },
  {
   "cell_type": "code",
   "execution_count": null,
   "id": "b47fc59a",
   "metadata": {},
   "outputs": [],
   "source": []
  },
  {
   "cell_type": "code",
   "execution_count": null,
   "id": "dacd8494",
   "metadata": {},
   "outputs": [],
   "source": []
  },
  {
   "cell_type": "code",
   "execution_count": null,
   "id": "1105e3a1",
   "metadata": {},
   "outputs": [],
   "source": []
  },
  {
   "cell_type": "code",
   "execution_count": null,
   "id": "c3bf8ac8",
   "metadata": {},
   "outputs": [],
   "source": []
  }
 ],
 "metadata": {
  "kernelspec": {
   "display_name": "Python 3 (ipykernel)",
   "language": "python",
   "name": "python3"
  },
  "language_info": {
   "codemirror_mode": {
    "name": "ipython",
    "version": 3
   },
   "file_extension": ".py",
   "mimetype": "text/x-python",
   "name": "python",
   "nbconvert_exporter": "python",
   "pygments_lexer": "ipython3",
   "version": "3.9.7"
  }
 },
 "nbformat": 4,
 "nbformat_minor": 5
}
