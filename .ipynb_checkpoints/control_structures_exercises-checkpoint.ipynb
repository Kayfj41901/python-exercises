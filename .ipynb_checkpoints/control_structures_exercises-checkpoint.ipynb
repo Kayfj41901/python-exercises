{
 "cells": [
  {
   "cell_type": "code",
   "execution_count": 8,
   "id": "dc14f96d",
   "metadata": {},
   "outputs": [
    {
     "name": "stdout",
     "output_type": "stream",
     "text": [
      "Monday\n",
      "Today is Monday!\n"
     ]
    }
   ],
   "source": [
    "day_of_week = input()\n",
    "if day_of_week == \"Monday\": \n",
    "    print(\"Today is Monday!\")\n",
    "else:\n",
    "    print(\"Today is not Monday!\")"
   ]
  },
  {
   "cell_type": "code",
   "execution_count": 9,
   "id": "39d1cb32",
   "metadata": {},
   "outputs": [
    {
     "name": "stdout",
     "output_type": "stream",
     "text": [
      "Saturday\n",
      "It's the weekend!\n"
     ]
    }
   ],
   "source": [
    "what_day_is_it = input()\n",
    "if what_day_is_it == \"Saturday\" or \"Sunday\":\n",
    "    print(\"It's the weekend!\")\n",
    "else: \n",
    "    print(\"It is a weekday\")"
   ]
  },
  {
   "cell_type": "code",
   "execution_count": 11,
   "id": "ea6b421b",
   "metadata": {},
   "outputs": [
    {
     "name": "stdout",
     "output_type": "stream",
     "text": [
      "516.0\n"
     ]
    }
   ],
   "source": [
    "num_hours_worked = 40\n",
    "hourly_rate = 12 \n",
    "overtime_rate = 12 * 1.5 \n",
    "overtime_hours = 2\n",
    "paycheck = (num_hours_worked * hourly_rate) + (overtime_rate * overtime_hours) \n",
    "print(paycheck)"
   ]
  },
  {
   "cell_type": "code",
   "execution_count": 12,
   "id": "3703f1f3",
   "metadata": {},
   "outputs": [
    {
     "name": "stdout",
     "output_type": "stream",
     "text": [
      "5\n",
      "6\n",
      "7\n",
      "8\n",
      "9\n",
      "10\n",
      "11\n",
      "12\n",
      "13\n",
      "14\n",
      "15\n"
     ]
    }
   ],
   "source": [
    "i = 5 \n",
    "while i <= 15:\n",
    "    print(i) \n",
    "    i += 1\n",
    "\n",
    "    "
   ]
  },
  {
   "cell_type": "code",
   "execution_count": 2,
   "id": "336aa999",
   "metadata": {},
   "outputs": [
    {
     "name": "stdout",
     "output_type": "stream",
     "text": [
      "2\n",
      "4\n",
      "6\n",
      "8\n",
      "10\n",
      "12\n",
      "14\n",
      "16\n",
      "18\n",
      "20\n",
      "22\n",
      "24\n",
      "26\n",
      "28\n",
      "30\n",
      "32\n",
      "34\n",
      "36\n",
      "38\n",
      "40\n",
      "42\n",
      "44\n",
      "46\n",
      "48\n",
      "50\n",
      "52\n",
      "54\n",
      "56\n",
      "58\n",
      "60\n",
      "62\n",
      "64\n",
      "66\n",
      "68\n",
      "70\n",
      "72\n",
      "74\n",
      "76\n",
      "78\n",
      "80\n",
      "82\n",
      "84\n",
      "86\n",
      "88\n",
      "90\n",
      "92\n",
      "94\n",
      "96\n",
      "98\n",
      "100\n"
     ]
    }
   ],
   "source": [
    "i = 0 \n",
    "while i <= 98:\n",
    "    i += 2\n",
    "    print(i)\n",
    "    "
   ]
  },
  {
   "cell_type": "code",
   "execution_count": null,
   "id": "ed341e1e",
   "metadata": {},
   "outputs": [],
   "source": [
    "x = range(-10, 100)\n",
    "i = 100 \n",
    "while True:\n",
    "    i > x\n",
    "    print(i - 5)\n",
    "    if x > i:\n",
    "        break \n",
    "print('complete')"
   ]
  },
  {
   "cell_type": "code",
   "execution_count": null,
   "id": "3ca5876f",
   "metadata": {},
   "outputs": [],
   "source": [
    "i = 2 \n",
    "while i < 1000000:\n",
    "    return i ** 2 \n",
    "    print(i)"
   ]
  },
  {
   "cell_type": "code",
   "execution_count": null,
   "id": "8948e9b2",
   "metadata": {},
   "outputs": [],
   "source": [
    "i - 100 \n",
    "while i >= 5:\n",
    "    i - 5 \n",
    "    print(i)"
   ]
  },
  {
   "cell_type": "code",
   "execution_count": null,
   "id": "1ffda86d",
   "metadata": {},
   "outputs": [],
   "source": [
    "int_input = input()\n",
    "for i in range(11):\n",
    "    return int_input * i"
   ]
  },
  {
   "cell_type": "code",
   "execution_count": null,
   "id": "a913d916",
   "metadata": {},
   "outputs": [],
   "source": [
    "for i in range(10): \n",
    "    return len(i)"
   ]
  },
  {
   "cell_type": "code",
   "execution_count": null,
   "id": "de46380e",
   "metadata": {},
   "outputs": [],
   "source": [
    "odd_number = print(\"Please enter odd number between 1 and 50. \" input())\n",
    "For i in range(51): \n",
    "    if i is odd and in range(51):\n",
    "        return int(range(51)) - i "
   ]
  },
  {
   "cell_type": "code",
   "execution_count": null,
   "id": "a56beee2",
   "metadata": {},
   "outputs": [],
   "source": [
    "user_input = (\"Please enter a positive number: \" input())\n",
    "count = 0 \n",
    "For i in range len(input()):\n",
    "    while count <= i \n",
    "    counter = count += 1\n",
    "    print(counter)"
   ]
  },
  {
   "cell_type": "code",
   "execution_count": null,
   "id": "074817e2",
   "metadata": {},
   "outputs": [],
   "source": []
  }
 ],
 "metadata": {
  "kernelspec": {
   "display_name": "Python 3 (ipykernel)",
   "language": "python",
   "name": "python3"
  },
  "language_info": {
   "codemirror_mode": {
    "name": "ipython",
    "version": 3
   },
   "file_extension": ".py",
   "mimetype": "text/x-python",
   "name": "python",
   "nbconvert_exporter": "python",
   "pygments_lexer": "ipython3",
   "version": "3.9.7"
  }
 },
 "nbformat": 4,
 "nbformat_minor": 5
}
