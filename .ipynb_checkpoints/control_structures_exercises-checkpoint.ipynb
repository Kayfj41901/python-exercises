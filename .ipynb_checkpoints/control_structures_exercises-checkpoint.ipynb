{
 "cells": [
  {
   "cell_type": "markdown",
   "id": "73d8c355",
   "metadata": {},
   "source": [
    "1. Conditional Basics"
   ]
  },
  {
   "cell_type": "markdown",
   "id": "4dc3c925",
   "metadata": {},
   "source": [
    "a. Prompt the user for a day of the week, print out whether the day is Monday or not "
   ]
  },
  {
   "cell_type": "code",
   "execution_count": 1,
   "id": "06ba103e",
   "metadata": {},
   "outputs": [
    {
     "name": "stdout",
     "output_type": "stream",
     "text": [
      "What day of the week is today?monday\n",
      "Today is Monday!\n"
     ]
    }
   ],
   "source": [
    "day_of_week = input(\"What day of the week is today?\")\n",
    "if day_of_week == \"Monday\" or day_of_week == \"monday\": \n",
    "    print(\"Today is Monday!\")\n",
    "else:\n",
    "    print(\"Today is not Monday!\")\n",
    "#Can someone tell me why this code wil not work? When I try to run it with the prompt it runs \n",
    "#on an infinte loop. with no prompt and an empty box, it's just fine.."
   ]
  },
  {
   "cell_type": "markdown",
   "id": "54500dbc",
   "metadata": {},
   "source": [
    "b. Prompt the user for a day of the week, print out whether the day is a weekday or a weekend "
   ]
  },
  {
   "cell_type": "code",
   "execution_count": 2,
   "id": "659db5f3",
   "metadata": {},
   "outputs": [
    {
     "name": "stdout",
     "output_type": "stream",
     "text": [
      "saturday\n",
      "It's the weekend!\n"
     ]
    }
   ],
   "source": [
    "what_day_is_it = input()\n",
    "if what_day_is_it == \"Saturday\" or what_day_is_it == \"Sunday\" or what_day_is_it == 'saturday' or what_day_is_it == 'sunday':\n",
    "    print(\"It's the weekend!\")\n",
    "else: \n",
    "    print(\"It is a weekday\")\n",
    "#I am not sure why this code works either "
   ]
  },
  {
   "cell_type": "markdown",
   "id": "64414e47",
   "metadata": {},
   "source": [
    "c. Create variables and make up values for: the number of hours worked in one week, the hourly rate, how much the week's paycheck will be"
   ]
  },
  {
   "cell_type": "code",
   "execution_count": 3,
   "id": "ae4c344b",
   "metadata": {},
   "outputs": [
    {
     "name": "stdout",
     "output_type": "stream",
     "text": [
      "516.0\n"
     ]
    }
   ],
   "source": [
    "num_hours_worked = 40\n",
    "hourly_rate = 12 \n",
    "overtime_rate = 12 * 1.5 \n",
    "overtime_hours = 2\n",
    "paycheck = (num_hours_worked * hourly_rate) + (overtime_rate * overtime_hours) \n",
    "print(paycheck)"
   ]
  },
  {
   "cell_type": "markdown",
   "id": "4d19fcd5",
   "metadata": {},
   "source": [
    "2. Loop Basics "
   ]
  },
  {
   "cell_type": "markdown",
   "id": "851efffa",
   "metadata": {},
   "source": [
    "a. While: create an integer variable i with a value of 5, create a while loop that runs so long as i is less than or equal to 15, each loop iteration, output the current value of i, then increment i by one. "
   ]
  },
  {
   "cell_type": "code",
   "execution_count": 4,
   "id": "a788ef8b",
   "metadata": {},
   "outputs": [
    {
     "name": "stdout",
     "output_type": "stream",
     "text": [
      "5\n",
      "6\n",
      "7\n",
      "8\n",
      "9\n",
      "10\n",
      "11\n",
      "12\n",
      "13\n",
      "14\n",
      "15\n"
     ]
    }
   ],
   "source": [
    "i = 5 \n",
    "while i <= 15:\n",
    "    print(i) \n",
    "    i += 1"
   ]
  },
  {
   "cell_type": "markdown",
   "id": "7a2c5e3d",
   "metadata": {},
   "source": [
    "a2. Create a while loop that will count by 2's starting with 0 and ending at 100. Follow each number with a new line. Alter your loop to count backwards by 5's from 100 to -10. Create a while loop that starts at 2, and displays the number squared on each line while the number is less than 1,000,000."
   ]
  },
  {
   "cell_type": "code",
   "execution_count": 5,
   "id": "755c5e1d",
   "metadata": {},
   "outputs": [
    {
     "name": "stdout",
     "output_type": "stream",
     "text": [
      "2\n",
      "4\n",
      "6\n",
      "8\n",
      "10\n",
      "12\n",
      "14\n",
      "16\n",
      "18\n",
      "20\n",
      "22\n",
      "24\n",
      "26\n",
      "28\n",
      "30\n",
      "32\n",
      "34\n",
      "36\n",
      "38\n",
      "40\n",
      "42\n",
      "44\n",
      "46\n",
      "48\n",
      "50\n",
      "52\n",
      "54\n",
      "56\n",
      "58\n",
      "60\n",
      "62\n",
      "64\n",
      "66\n",
      "68\n",
      "70\n",
      "72\n",
      "74\n",
      "76\n",
      "78\n",
      "80\n",
      "82\n",
      "84\n",
      "86\n",
      "88\n",
      "90\n",
      "92\n",
      "94\n",
      "96\n",
      "98\n",
      "100\n"
     ]
    }
   ],
   "source": [
    "i = 0 \n",
    "while i <= 98:\n",
    "    i += 2\n",
    "    print(i)\n",
    "    "
   ]
  },
  {
   "cell_type": "code",
   "execution_count": 6,
   "id": "18d05643",
   "metadata": {},
   "outputs": [
    {
     "name": "stdout",
     "output_type": "stream",
     "text": [
      "100\n",
      "95\n",
      "90\n",
      "85\n",
      "80\n",
      "75\n",
      "70\n",
      "65\n",
      "60\n",
      "55\n",
      "50\n",
      "45\n",
      "40\n",
      "35\n",
      "30\n",
      "25\n",
      "20\n",
      "15\n",
      "10\n",
      "5\n",
      "0\n",
      "-5\n",
      "-10\n"
     ]
    }
   ],
   "source": [
    "for i in range(100, -15, -5):\n",
    "    print(i)"
   ]
  },
  {
   "cell_type": "code",
   "execution_count": 7,
   "id": "1c7d0081",
   "metadata": {},
   "outputs": [
    {
     "name": "stdout",
     "output_type": "stream",
     "text": [
      "2\n",
      "4\n",
      "16\n",
      "256\n",
      "65536\n"
     ]
    }
   ],
   "source": [
    "i = 2 \n",
    "while i < 1000000:\n",
    "    print(i)\n",
    "    i = i ** 2"
   ]
  },
  {
   "cell_type": "markdown",
   "id": "db75c04c",
   "metadata": {},
   "source": [
    "Write a loop that uses print to create the output shown below"
   ]
  },
  {
   "cell_type": "code",
   "execution_count": 8,
   "id": "a835eb23",
   "metadata": {},
   "outputs": [
    {
     "name": "stdout",
     "output_type": "stream",
     "text": [
      "100\n",
      "95\n",
      "90\n",
      "85\n",
      "80\n",
      "75\n",
      "70\n",
      "65\n",
      "60\n",
      "55\n",
      "50\n",
      "45\n",
      "40\n",
      "35\n",
      "30\n",
      "25\n",
      "20\n",
      "15\n",
      "10\n",
      "5\n"
     ]
    }
   ],
   "source": [
    "i = 100 \n",
    "while i >= 5:\n",
    "    print(i)\n",
    "    i = i - 5\n",
    "    "
   ]
  },
  {
   "cell_type": "markdown",
   "id": "90d4e5d4",
   "metadata": {},
   "source": [
    "b.i. Write some code that prompts the user for a number, then shows a multiplication table up through 10 for that number."
   ]
  },
  {
   "cell_type": "code",
   "execution_count": 9,
   "id": "ad41609d",
   "metadata": {},
   "outputs": [
    {
     "name": "stdout",
     "output_type": "stream",
     "text": [
      "Please enter a single digit number9\n",
      "9 x 1 = 9\n",
      "9 x 2 = 18\n",
      "9 x 3 = 27\n",
      "9 x 4 = 36\n",
      "9 x 5 = 45\n",
      "9 x 6 = 54\n",
      "9 x 7 = 63\n",
      "9 x 8 = 72\n",
      "9 x 9 = 81\n",
      "9 x 10 = 90\n"
     ]
    }
   ],
   "source": [
    "int_input = int(input(\"Please enter a single digit number\"))\n",
    "for i in range(1, 11):\n",
    "    print(f\"{int_input} x {i} = {int_input * i}\")"
   ]
  },
  {
   "cell_type": "markdown",
   "id": "bd2d1f48",
   "metadata": {},
   "source": [
    "b.ii. Create a for loop that uses print to create the output shown below. "
   ]
  },
  {
   "cell_type": "code",
   "execution_count": 10,
   "id": "d31fb6ea",
   "metadata": {},
   "outputs": [
    {
     "name": "stdout",
     "output_type": "stream",
     "text": [
      "\n",
      "1\n",
      "22\n",
      "333\n",
      "4444\n",
      "55555\n",
      "666666\n",
      "7777777\n",
      "88888888\n",
      "999999999\n"
     ]
    }
   ],
   "source": [
    "for i in range(10): \n",
    "    print(str(i)*i)"
   ]
  },
  {
   "cell_type": "markdown",
   "id": "fb3d4c98",
   "metadata": {},
   "source": [
    "2.c.i Prompt the user for an odd number between 1 and 50. Use a loop and a break statement to continue prompting the user if they enter invalid input. Use a loop and the continue statement to output all the odd numbers between 1 and 50, except for the number the user entered. "
   ]
  },
  {
   "cell_type": "code",
   "execution_count": 11,
   "id": "12c6ebbe",
   "metadata": {},
   "outputs": [
    {
     "name": "stdout",
     "output_type": "stream",
     "text": [
      "Please enter odd number between 1 and 50. 3\n",
      "1\n",
      "5\n",
      "7\n",
      "9\n",
      "11\n",
      "13\n",
      "15\n",
      "17\n",
      "19\n",
      "21\n",
      "23\n",
      "25\n",
      "27\n",
      "29\n",
      "31\n",
      "33\n",
      "35\n",
      "37\n",
      "39\n",
      "41\n",
      "43\n",
      "45\n",
      "47\n",
      "49\n"
     ]
    }
   ],
   "source": [
    "num = input(\"Please enter odd number between 1 and 50. \")\n",
    "\n",
    "while True:\n",
    "    if num.isdigit() == False or int(num)>50 or int(num)<1 or int(num)%2 ==0:\n",
    "        print('invalid input')\n",
    "        num = input('Please enter an odd number between 1 and 50. ')\n",
    "    else:\n",
    "        break\n",
    "\n",
    "num = int(num)\n",
    "\n",
    "for number in range(1, 50, 2):\n",
    "    if number == num:\n",
    "        continue\n",
    "    print(number)\n"
   ]
  },
  {
   "cell_type": "markdown",
   "id": "12ca7604",
   "metadata": {},
   "source": [
    "2.d. The input function can be used to prompt for input and used that input in your python code. Prompt the user to enter a positive number and write a loop that counts from 0 to that number. (Hints: first make sure that the value the user entered is a valid number, also ntoe that th iput function returns a string, so you'll need to convert this to a numeric type. )"
   ]
  },
  {
   "cell_type": "code",
   "execution_count": 13,
   "id": "bcfa7c81",
   "metadata": {},
   "outputs": [
    {
     "name": "stdout",
     "output_type": "stream",
     "text": [
      "Please enter a positive number: 2\n",
      "0\n",
      "1\n",
      "2\n"
     ]
    }
   ],
   "source": [
    "user_input = int(input(\"Please enter a positive number: \"))\n",
    "\n",
    "for i in range (0, (user_input+1)):\n",
    "    print(i)"
   ]
  },
  {
   "cell_type": "markdown",
   "id": "c7a85683",
   "metadata": {},
   "source": [
    "2.e. Write a program that prompts the user for a positive integer. Next write a loop that prints out the numbers from the number the user entered down to 1. "
   ]
  },
  {
   "cell_type": "code",
   "execution_count": 14,
   "id": "14430855",
   "metadata": {},
   "outputs": [
    {
     "name": "stdout",
     "output_type": "stream",
     "text": [
      "Please enter a positive number: 4\n",
      "4\n",
      "3\n",
      "2\n",
      "1\n"
     ]
    }
   ],
   "source": [
    "user_input_pos = int(input(\"Please enter a positive number: \"))\n",
    "\n",
    "for i in range ((user_input_pos), 0, -1):\n",
    "    print(i)\n"
   ]
  },
  {
   "cell_type": "markdown",
   "id": "adf9a3b1",
   "metadata": {},
   "source": [
    "3. Fizzbuzz. Write a program that prints the numbers from 1 to 100: for multiples of three print \"Fizz\", for multiples of five print \"Buzz\", for numbers which are multiples of both three and five print \"Fizzbuzz.\""
   ]
  },
  {
   "cell_type": "code",
   "execution_count": 15,
   "id": "72c07566",
   "metadata": {},
   "outputs": [
    {
     "name": "stdout",
     "output_type": "stream",
     "text": [
      "1\n",
      "2\n",
      "3\n",
      "Fizz\n",
      "4\n",
      "5\n",
      "Buzz\n",
      "6\n",
      "Fizz\n",
      "7\n",
      "8\n",
      "9\n",
      "Fizz\n",
      "10\n",
      "Buzz\n",
      "11\n",
      "12\n",
      "Fizz\n",
      "13\n",
      "14\n",
      "15\n",
      "Fizz\n",
      "Buzz\n",
      "FizzBuzz\n",
      "16\n",
      "17\n",
      "18\n",
      "Fizz\n",
      "19\n",
      "20\n",
      "Buzz\n",
      "21\n",
      "Fizz\n",
      "22\n",
      "23\n",
      "24\n",
      "Fizz\n",
      "25\n",
      "Buzz\n",
      "26\n",
      "27\n",
      "Fizz\n",
      "28\n",
      "29\n",
      "30\n",
      "Fizz\n",
      "Buzz\n",
      "FizzBuzz\n",
      "31\n",
      "32\n",
      "33\n",
      "Fizz\n",
      "34\n",
      "35\n",
      "Buzz\n",
      "36\n",
      "Fizz\n",
      "37\n",
      "38\n",
      "39\n",
      "Fizz\n",
      "40\n",
      "Buzz\n",
      "41\n",
      "42\n",
      "Fizz\n",
      "43\n",
      "44\n",
      "45\n",
      "Fizz\n",
      "Buzz\n",
      "FizzBuzz\n",
      "46\n",
      "47\n",
      "48\n",
      "Fizz\n",
      "49\n",
      "50\n",
      "Buzz\n",
      "51\n",
      "Fizz\n",
      "52\n",
      "53\n",
      "54\n",
      "Fizz\n",
      "55\n",
      "Buzz\n",
      "56\n",
      "57\n",
      "Fizz\n",
      "58\n",
      "59\n",
      "60\n",
      "Fizz\n",
      "Buzz\n",
      "FizzBuzz\n",
      "61\n",
      "62\n",
      "63\n",
      "Fizz\n",
      "64\n",
      "65\n",
      "Buzz\n",
      "66\n",
      "Fizz\n",
      "67\n",
      "68\n",
      "69\n",
      "Fizz\n",
      "70\n",
      "Buzz\n",
      "71\n",
      "72\n",
      "Fizz\n",
      "73\n",
      "74\n",
      "75\n",
      "Fizz\n",
      "Buzz\n",
      "FizzBuzz\n",
      "76\n",
      "77\n",
      "78\n",
      "Fizz\n",
      "79\n",
      "80\n",
      "Buzz\n",
      "81\n",
      "Fizz\n",
      "82\n",
      "83\n",
      "84\n",
      "Fizz\n",
      "85\n",
      "Buzz\n",
      "86\n",
      "87\n",
      "Fizz\n",
      "88\n",
      "89\n",
      "90\n",
      "Fizz\n",
      "Buzz\n",
      "FizzBuzz\n",
      "91\n",
      "92\n",
      "93\n",
      "Fizz\n",
      "94\n",
      "95\n",
      "Buzz\n",
      "96\n",
      "Fizz\n",
      "97\n",
      "98\n",
      "99\n",
      "Fizz\n",
      "100\n",
      "Buzz\n"
     ]
    }
   ],
   "source": [
    "i = 0 \n",
    "for i in range(100):\n",
    "    new_value = i = i + 1\n",
    "    print(new_value)\n",
    "    if i % 3 == 0:\n",
    "        print(\"Fizz\")\n",
    "    if i % 5 == 0:\n",
    "        print(\"Buzz\")\n",
    "    if i % 3 == 0 and i % 5 == 0:\n",
    "        print(\"FizzBuzz\")"
   ]
  },
  {
   "cell_type": "markdown",
   "id": "f89eca8a",
   "metadata": {},
   "source": [
    "4. Display a table of powers: prompt the user to enter an integer, display a table of squares and cubes from 1 to the value entered, ask if the user wants to continue, assume that the user will enter valid data, only continue if the user agrees to. "
   ]
  },
  {
   "cell_type": "code",
   "execution_count": 21,
   "id": "b92c9fe5",
   "metadata": {},
   "outputs": [
    {
     "name": "stdout",
     "output_type": "stream",
     "text": [
      "What number would you like to go up to? 4\n",
      "Here is your table!\n",
      "1 1 1\n",
      "2 4 8\n",
      "3 9 27\n",
      "4 16 64\n"
     ]
    }
   ],
   "source": [
    "\n",
    "upto = int(input(\"What number would you like to go up to? \"))\n",
    "print(\"Here is your table!\")\n",
    "\n",
    "for i in range(1, upto+1):\n",
    "           num = i \n",
    "           squared = i**2\n",
    "           cubed = i**3\n",
    "           print(num, squared, cubed)\n",
    "\n",
    "\n"
   ]
  },
  {
   "cell_type": "markdown",
   "id": "c3b81934",
   "metadata": {},
   "source": [
    "Convert given number grades into letter grades. "
   ]
  },
  {
   "cell_type": "code",
   "execution_count": 22,
   "id": "7a12b6d8",
   "metadata": {},
   "outputs": [
    {
     "name": "stdout",
     "output_type": "stream",
     "text": [
      "Please enter your numerical grade from 0 to 10088\n",
      "A\n"
     ]
    }
   ],
   "source": [
    "grade= int(input(\"Please enter your numerical grade from 0 to 100\")) \n",
    "if grade >= 88 and grade <= 100:\n",
    "    print(\"A\")\n",
    "elif grade <= 87 and grade >= 80:\n",
    "    print(\"B\")\n",
    "elif grade <= 79  and grade >= 67:\n",
    "    print(\"C\")\n",
    "elif grade <= 66  and grade >= 60:\n",
    "    print(\"D\")\n",
    "else:\n",
    "    print(\"F\")\n"
   ]
  },
  {
   "cell_type": "markdown",
   "id": "8e654a26",
   "metadata": {},
   "source": [
    "6. Create a list of dictionaries where each dictionary represents a book that you have read. Each dictionary in the list should have the keys title, author, and genre. Loop through the list and print out information about each book. Prompt the user to enter a genre, then loop through your books list and print out the titles of all the books in that genre. "
   ]
  },
  {
   "cell_type": "code",
   "execution_count": 29,
   "id": "017d8bf2",
   "metadata": {},
   "outputs": [
    {
     "name": "stdout",
     "output_type": "stream",
     "text": [
      "{'title': 'Mercedes Killer', 'author': 'Stephen King', 'genre': 'fiction'}\n",
      "{'title': 'Educated', 'author': 'Tara Westover', 'genre': 'Memoir'}\n",
      "{'title': 'Matched', 'author': 'Ally Condie', 'genre': 'fiction'}\n",
      "Please enter book genre:fiction\n",
      "Mercedes Killer\n",
      "Matched\n"
     ]
    }
   ],
   "source": [
    "books_ive_read = [{'title':'Mercedes Killer', 'author':'Stephen King', 'genre':'fiction'},\n",
    "                  {'title': 'Educated', 'author':'Tara Westover', 'genre':'memoir'},\n",
    "                  {'title':'Matched', 'author':'Ally Condie', 'genre':'fiction'}]\n",
    "\n",
    "for books in books_ive_read: \n",
    "    print(books)\n",
    "\n",
    "\n",
    "user_genre = input(\"Please enter book genre:\")\n",
    "for book in books_ive_read: \n",
    "    if user_genre == book['genre']:\n",
    "        print(book['title'])\n",
    "\n",
    "    \n"
   ]
  },
  {
   "cell_type": "code",
   "execution_count": null,
   "id": "9d02d6d8",
   "metadata": {},
   "outputs": [],
   "source": []
  }
 ],
 "metadata": {
  "kernelspec": {
   "display_name": "Python 3 (ipykernel)",
   "language": "python",
   "name": "python3"
  },
  "language_info": {
   "codemirror_mode": {
    "name": "ipython",
    "version": 3
   },
   "file_extension": ".py",
   "mimetype": "text/x-python",
   "name": "python",
   "nbconvert_exporter": "python",
   "pygments_lexer": "ipython3",
   "version": "3.9.7"
  }
 },
 "nbformat": 4,
 "nbformat_minor": 5
}
