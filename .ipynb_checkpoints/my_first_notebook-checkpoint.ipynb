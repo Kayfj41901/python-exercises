{
 "cells": [
  {
   "cell_type": "markdown",
   "id": "16a0a353",
   "metadata": {},
   "source": [
    "m - to convert cell to markdown\n",
    "\n"
   ]
  },
  {
   "cell_type": "code",
   "execution_count": 1,
   "id": "2645df2b",
   "metadata": {},
   "outputs": [
    {
     "name": "stdout",
     "output_type": "stream",
     "text": [
      "Hello, World!\n"
     ]
    }
   ],
   "source": [
    "print(\"Hello, World!\")"
   ]
  },
  {
   "cell_type": "code",
   "execution_count": 2,
   "id": "f0bb674b",
   "metadata": {},
   "outputs": [],
   "source": [
    "x = 5 "
   ]
  },
  {
   "cell_type": "code",
   "execution_count": 6,
   "id": "062debfa",
   "metadata": {},
   "outputs": [
    {
     "data": {
      "text/plain": [
       "True"
      ]
     },
     "execution_count": 6,
     "metadata": {},
     "output_type": "execute_result"
    }
   ],
   "source": [
    "bool(3==3)"
   ]
  },
  {
   "cell_type": "code",
   "execution_count": 7,
   "id": "bce591d6",
   "metadata": {},
   "outputs": [],
   "source": [
    "today = \"Then She Said\""
   ]
  },
  {
   "cell_type": "code",
   "execution_count": 5,
   "id": "762329eb",
   "metadata": {},
   "outputs": [
    {
     "data": {
      "text/plain": [
       "False"
      ]
     },
     "execution_count": 5,
     "metadata": {},
     "output_type": "execute_result"
    }
   ],
   "source": [
    "bool(3==4)"
   ]
  },
  {
   "cell_type": "code",
   "execution_count": 8,
   "id": "587077eb",
   "metadata": {},
   "outputs": [
    {
     "name": "stdout",
     "output_type": "stream",
     "text": [
      "Then She Said\n"
     ]
    }
   ],
   "source": [
    "print(today)"
   ]
  },
  {
   "cell_type": "code",
   "execution_count": 9,
   "id": "558e1969",
   "metadata": {},
   "outputs": [],
   "source": [
    "#you can auto save with esc s \n",
    "#you can add a new like with esc b \n",
    "#you can run a line with ctrl enter"
   ]
  },
  {
   "cell_type": "code",
   "execution_count": null,
   "id": "d1384292",
   "metadata": {},
   "outputs": [],
   "source": []
  }
 ],
 "metadata": {
  "kernelspec": {
   "display_name": "Python 3 (ipykernel)",
   "language": "python",
   "name": "python3"
  },
  "language_info": {
   "codemirror_mode": {
    "name": "ipython",
    "version": 3
   },
   "file_extension": ".py",
   "mimetype": "text/x-python",
   "name": "python",
   "nbconvert_exporter": "python",
   "pygments_lexer": "ipython3",
   "version": "3.9.7"
  }
 },
 "nbformat": 4,
 "nbformat_minor": 5
}
