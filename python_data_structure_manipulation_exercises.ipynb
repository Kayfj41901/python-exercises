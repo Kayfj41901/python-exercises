{
 "cells": [
  {
   "cell_type": "code",
   "execution_count": 24,
   "id": "d8344fde",
   "metadata": {},
   "outputs": [],
   "source": [
    "students = [\n",
    "    {\n",
    "        \"id\": \"100001\",\n",
    "        \"student\": \"Ada Lovelace\",\n",
    "        \"coffee_preference\": \"light\",\n",
    "        \"course\": \"web development\",\n",
    "        \"grades\": [70, 91, 82, 71],\n",
    "        \"pets\": [{\"species\": \"horse\", \"age\": 8}],\n",
    "    },\n",
    "    {\n",
    "        \"id\": \"100002\",\n",
    "        \"student\": \"Thomas Bayes\",\n",
    "        \"coffee_preference\": \"medium\",\n",
    "        \"course\": \"data science\",\n",
    "        \"grades\": [75, 73, 86, 100],\n",
    "        \"pets\": [],\n",
    "    },\n",
    "    {\n",
    "        \"id\": \"100003\",\n",
    "        \"student\": \"Marie Curie\",\n",
    "        \"coffee_preference\": \"light\",\n",
    "        \"course\": \"web development\",\n",
    "        \"grades\": [70, 89, 69, 65],\n",
    "        \"pets\": [{\"species\": \"cat\", \"age\": 0}],\n",
    "    },\n",
    "    {\n",
    "        \"id\": \"100004\",\n",
    "        \"student\": \"Grace Hopper\",\n",
    "        \"coffee_preference\": \"dark\",\n",
    "        \"course\": \"data science\",\n",
    "        \"grades\": [73, 66, 83, 92],\n",
    "        \"pets\": [{\"species\": \"dog\", \"age\": 4}, {\"species\": \"cat\", \"age\": 4}],\n",
    "    },\n",
    "    {\n",
    "        \"id\": \"100005\",\n",
    "        \"student\": \"Alan Turing\",\n",
    "        \"coffee_preference\": \"dark\",\n",
    "        \"course\": \"web development\",\n",
    "        \"grades\": [78, 98, 85, 65],\n",
    "        \"pets\": [\n",
    "            {\"species\": \"horse\", \"age\": 6},\n",
    "            {\"species\": \"horse\", \"age\": 7},\n",
    "            {\"species\": \"dog\", \"age\": 5},\n",
    "        ],\n",
    "    },\n",
    "    {\n",
    "        \"id\": \"100006\",\n",
    "        \"student\": \"Rosalind Franklin\",\n",
    "        \"coffee_preference\": \"dark\",\n",
    "        \"course\": \"data science\",\n",
    "        \"grades\": [76, 70, 96, 81],\n",
    "        \"pets\": [],\n",
    "    },\n",
    "    {\n",
    "        \"id\": \"100007\",\n",
    "        \"student\": \"Elizabeth Blackwell\",\n",
    "        \"coffee_preference\": \"dark\",\n",
    "        \"course\": \"web development\",\n",
    "        \"grades\": [69, 94, 89, 86],\n",
    "        \"pets\": [{\"species\": \"cat\", \"age\": 10}],\n",
    "    },\n",
    "    {\n",
    "        \"id\": \"100008\",\n",
    "        \"student\": \"Rene Descartes\",\n",
    "        \"coffee_preference\": \"medium\",\n",
    "        \"course\": \"data science\",\n",
    "        \"grades\": [87, 79, 90, 99],\n",
    "        \"pets\": [{\"species\": \"cat\", \"age\": 10}, {\"species\": \"cat\", \"age\": 8}],\n",
    "    },\n",
    "    {\n",
    "        \"id\": \"100009\",\n",
    "        \"student\": \"Ahmed Zewail\",\n",
    "        \"coffee_preference\": \"medium\",\n",
    "        \"course\": \"data science\",\n",
    "        \"grades\": [74, 99, 93, 89],\n",
    "        \"pets\": [{\"species\": \"cat\", \"age\": 0}, {\"species\": \"cat\", \"age\": 0}],\n",
    "    },\n",
    "    {\n",
    "        \"id\": \"100010\",\n",
    "        \"student\": \"Chien-Shiung Wu\",\n",
    "        \"coffee_preference\": \"medium\",\n",
    "        \"course\": \"web development\",\n",
    "        \"grades\": [82, 92, 91, 65],\n",
    "        \"pets\": [{\"species\": \"cat\", \"age\": 8}],\n",
    "    },\n",
    "    {\n",
    "        \"id\": \"100011\",\n",
    "        \"student\": \"William Sanford Nye\",\n",
    "        \"coffee_preference\": \"dark\",\n",
    "        \"course\": \"data science\",\n",
    "        \"grades\": [70, 92, 65, 99],\n",
    "        \"pets\": [{\"species\": \"cat\", \"age\": 8}, {\"species\": \"cat\", \"age\": 5}],\n",
    "    },\n",
    "    {\n",
    "        \"id\": \"100012\",\n",
    "        \"student\": \"Carl Sagan\",\n",
    "        \"coffee_preference\": \"medium\",\n",
    "        \"course\": \"data science\",\n",
    "        \"grades\": [100, 86, 91, 87],\n",
    "        \"pets\": [{\"species\": \"cat\", \"age\": 10}],\n",
    "    },\n",
    "    {\n",
    "        \"id\": \"100013\",\n",
    "        \"student\": \"Jane Goodall\",\n",
    "        \"coffee_preference\": \"light\",\n",
    "        \"course\": \"web development\",\n",
    "        \"grades\": [80, 70, 68, 98],\n",
    "        \"pets\": [{\"species\": \"horse\", \"age\": 4}],\n",
    "    },\n",
    "    {\n",
    "        \"id\": \"100014\",\n",
    "        \"student\": \"Richard Feynman\",\n",
    "        \"coffee_preference\": \"medium\",\n",
    "        \"course\": \"web development\",\n",
    "        \"grades\": [73, 99, 86, 98],\n",
    "        \"pets\": [{\"species\": \"dog\", \"age\": 6}],\n",
    "    },\n",
    "]"
   ]
  },
  {
   "cell_type": "code",
   "execution_count": 25,
   "id": "fe24cb6b",
   "metadata": {},
   "outputs": [
    {
     "name": "stdout",
     "output_type": "stream",
     "text": [
      "Number of students: 14\n"
     ]
    }
   ],
   "source": [
    "#How many students are there?\n",
    "counter = 0 \n",
    "for student in students:\n",
    "    counter += 1\n",
    "print(\"Number of students:\", counter)"
   ]
  },
  {
   "cell_type": "code",
   "execution_count": 26,
   "id": "bb37d006",
   "metadata": {},
   "outputs": [
    {
     "data": {
      "text/plain": [
       "14"
      ]
     },
     "execution_count": 26,
     "metadata": {},
     "output_type": "execute_result"
    }
   ],
   "source": [
    "#How many students are there?\n",
    "len(students)"
   ]
  },
  {
   "cell_type": "code",
   "execution_count": 44,
   "id": "679ebceb",
   "metadata": {},
   "outputs": [
    {
     "name": "stdout",
     "output_type": "stream",
     "text": [
      "light\n",
      "medium\n",
      "light\n",
      "dark\n",
      "dark\n",
      "dark\n",
      "dark\n",
      "medium\n",
      "medium\n",
      "medium\n",
      "dark\n",
      "medium\n",
      "light\n",
      "medium\n"
     ]
    }
   ],
   "source": [
    "#How mamy types of coffee are there? \n",
    "\n",
    "for i in range(0, 14):\n",
    "    listofblends = students[i][\"coffee_preference\"]\n",
    "    print(listofblends)\n",
    "  ###I want to be able to print the set of this list but keep coming up with an error "
   ]
  },
  {
   "cell_type": "code",
   "execution_count": 28,
   "id": "525bc046",
   "metadata": {},
   "outputs": [
    {
     "name": "stdout",
     "output_type": "stream",
     "text": [
      "3\n"
     ]
    }
   ],
   "source": [
    "#How many students prefer light coffee? For each type of coffee roast?\n",
    "counter = 0 \n",
    "for i in range(0, 14): \n",
    "    a = students[i][\"coffee_preference\"]\n",
    "    if a == 'light':\n",
    "        counter += 1\n",
    "print(counter)"
   ]
  },
  {
   "cell_type": "code",
   "execution_count": 29,
   "id": "12f95458",
   "metadata": {},
   "outputs": [
    {
     "name": "stdout",
     "output_type": "stream",
     "text": [
      "5\n"
     ]
    }
   ],
   "source": [
    "#How many students prefer dark coffee?\n",
    "counter = 0 \n",
    "for i in range(0, 14): \n",
    "    a = students[i][\"coffee_preference\"]\n",
    "    if a == 'dark':\n",
    "        counter += 1\n",
    "print(counter)"
   ]
  },
  {
   "cell_type": "code",
   "execution_count": 30,
   "id": "7b972c2e",
   "metadata": {},
   "outputs": [
    {
     "name": "stdout",
     "output_type": "stream",
     "text": [
      "6\n"
     ]
    }
   ],
   "source": [
    "#How many students prefer medium coffee? \n",
    "counter = 0 \n",
    "for i in range(0, 14): \n",
    "    a = students[i][\"coffee_preference\"]\n",
    "    if a == 'medium':\n",
    "        counter += 1\n",
    "print(counter)"
   ]
  },
  {
   "cell_type": "code",
   "execution_count": 31,
   "id": "adcbbc64",
   "metadata": {},
   "outputs": [
    {
     "name": "stdout",
     "output_type": "stream",
     "text": [
      "{'horse', 'cat', 'dog'}\n"
     ]
    }
   ],
   "source": [
    "#How many types of each pet are there?\n",
    "pets = []\n",
    "for i in range(0, 14):\n",
    "    listofpets = students[i][\"pets\"]\n",
    "    if len(listofpets) > 0:\n",
    "     for pet in listofpets:\n",
    "        pets.append(pet['species'])\n",
    "        \n",
    "print(set(pets))"
   ]
  },
  {
   "cell_type": "code",
   "execution_count": 32,
   "id": "0422fdd3",
   "metadata": {},
   "outputs": [
    {
     "name": "stdout",
     "output_type": "stream",
     "text": [
      "List of classes per student\n",
      "4\n",
      "4\n",
      "4\n",
      "4\n",
      "4\n",
      "4\n",
      "4\n",
      "4\n",
      "4\n",
      "4\n",
      "4\n",
      "4\n",
      "4\n",
      "4\n",
      "Each student has 4 classes\n",
      "4\n"
     ]
    }
   ],
   "source": [
    "#How many grades does each student have? Do they all have the same number of grades?\n",
    "print(\"List of classes per student\")\n",
    "for i in range(0, 14):\n",
    "    lst_grades = students[i][\"grades\"]\n",
    "    print(len(lst_grades))\n",
    "print(\"Each student has 4 classes\")\n",
    "print(len(set(lst_grades)))"
   ]
  },
  {
   "cell_type": "code",
   "execution_count": 33,
   "id": "0745ae6e",
   "metadata": {},
   "outputs": [
    {
     "name": "stdout",
     "output_type": "stream",
     "text": [
      "78.5\n",
      "83.5\n",
      "73.25\n",
      "78.5\n",
      "81.5\n",
      "80.75\n",
      "84.5\n",
      "88.75\n",
      "88.75\n",
      "82.5\n",
      "81.5\n",
      "91.0\n",
      "79.0\n",
      "89.0\n"
     ]
    }
   ],
   "source": [
    "#Each student's grade average \n",
    "\n",
    "for i in range(0, 14): \n",
    "    a = students[i][\"grades\"]\n",
    "    avg = sum(a)/len(a)\n",
    "    print(avg)\n",
    "\n",
    "\n"
   ]
  },
  {
   "cell_type": "code",
   "execution_count": 34,
   "id": "627d003e",
   "metadata": {},
   "outputs": [
    {
     "name": "stdout",
     "output_type": "stream",
     "text": [
      "1\n",
      "0\n",
      "1\n",
      "2\n",
      "3\n",
      "0\n",
      "1\n",
      "2\n",
      "2\n",
      "1\n",
      "2\n",
      "1\n",
      "1\n",
      "1\n"
     ]
    }
   ],
   "source": [
    "#How many pets does each student have?\n",
    "num_of_pets = []\n",
    "for i in range(0, 14): \n",
    "    a = len(students[i][\"pets\"])\n",
    "    num_of_pets.append(a)\n",
    "    print(a)\n",
    "    "
   ]
  },
  {
   "cell_type": "code",
   "execution_count": 35,
   "id": "ddc59e49",
   "metadata": {},
   "outputs": [
    {
     "name": "stdout",
     "output_type": "stream",
     "text": [
      "7\n"
     ]
    }
   ],
   "source": [
    "#How many students are in web development? \n",
    "number_stud_in_webdev = 0 \n",
    "for i in range(0, 14):\n",
    "    a = students[i][\"course\"]\n",
    "    if a == \"web development\":\n",
    "     number_stud_in_webdev += 1 \n",
    "print(number_stud_in_webdev)"
   ]
  },
  {
   "cell_type": "code",
   "execution_count": 36,
   "id": "4fa309a8",
   "metadata": {},
   "outputs": [
    {
     "name": "stdout",
     "output_type": "stream",
     "text": [
      "7\n"
     ]
    }
   ],
   "source": [
    "#How many students are in data science?\n",
    "counter = 0 \n",
    "for i in range(0, 14):\n",
    "    a=students[i][\"course\"]\n",
    "    if a == \"data science\":\n",
    "     counter += 1 \n",
    "print(counter)"
   ]
  },
  {
   "cell_type": "code",
   "execution_count": 37,
   "id": "c8afde5c",
   "metadata": {},
   "outputs": [
    {
     "name": "stdout",
     "output_type": "stream",
     "text": [
      "['web development', 'data science', 'web development', 'data science', 'web development', 'data science', 'web development', 'data science', 'data science', 'web development', 'data science', 'data science', 'web development', 'web development']\n"
     ]
    }
   ],
   "source": [
    "lst_courses = []\n",
    "for i in range(0, 14):\n",
    "    a = students[i][\"course\"]\n",
    "    lst_courses.append(a)\n",
    "        \n",
    "print(lst_courses)"
   ]
  },
  {
   "cell_type": "code",
   "execution_count": 38,
   "id": "6e5b0c76",
   "metadata": {},
   "outputs": [
    {
     "name": "stdout",
     "output_type": "stream",
     "text": [
      "[8, 0, 4, 4, 6, 7, 5, 10, 10, 8, 0, 0, 8, 8, 5, 10, 4, 6]\n"
     ]
    }
   ],
   "source": [
    "pet_age = []\n",
    "for i in range(0, 14):\n",
    "    listopets = students[i][\"pets\"]\n",
    "    if len(listopets) > 0:\n",
    "     for pet in listopets:\n",
    "        pet_age.append(pet['age'])\n",
    "        \n",
    "print(pet_age)"
   ]
  },
  {
   "cell_type": "code",
   "execution_count": 39,
   "id": "c8ba5226",
   "metadata": {},
   "outputs": [
    {
     "name": "stdout",
     "output_type": "stream",
     "text": [
      "{'web development': 8, 'data science': 0}\n"
     ]
    }
   ],
   "source": [
    "#What is the average pet age for students in data science?\n",
    "avg_pet_data_science_dict = dict(zip(lst_courses, pet_age))\n",
    "print(avg_pet_data_science_dict)\n",
    "### I would like to be able to create a list of dictionaries from the two above lists with lst_courses being the key \n",
    "### and pet_age being the value so that I can see the students by course type with the age of their pets. My plan from \n",
    "### here is to sort out non data science course students, then add the values, and divide by number ds students \n"
   ]
  },
  {
   "cell_type": "code",
   "execution_count": 119,
   "id": "41a7b38e",
   "metadata": {},
   "outputs": [
    {
     "name": "stdout",
     "output_type": "stream",
     "text": [
      "['web development', 'web development', 'web development', 'web development', 'web development', 'web development', 'web development']\n"
     ]
    }
   ],
   "source": [
    "web_dev_students = []\n",
    "for i in range(0, 14):\n",
    "    a = students[i][\"course\"]\n",
    "    if a == \"web development\":\n",
    "        web_dev_students.append(a)\n",
    "print(web_dev_students)"
   ]
  },
  {
   "cell_type": "code",
   "execution_count": 10,
   "id": "f7cb32d0",
   "metadata": {},
   "outputs": [
    {
     "name": "stdout",
     "output_type": "stream",
     "text": [
      "['data science', 'data science', 'data science', 'data science', 'data science', 'data science', 'data science']\n"
     ]
    }
   ],
   "source": [
    "data_science_students = []\n",
    "for i in range(0, 14):\n",
    "    a = students[i][\"course\"]\n",
    "    if a == \"data science\":\n",
    "        data_science_students.append(a)\n",
    "print(data_science_students)"
   ]
  },
  {
   "cell_type": "code",
   "execution_count": 11,
   "id": "2319c360",
   "metadata": {},
   "outputs": [
    {
     "ename": "NameError",
     "evalue": "name 'web_dev_students' is not defined",
     "output_type": "error",
     "traceback": [
      "\u001b[0;31m---------------------------------------------------------------------------\u001b[0m",
      "\u001b[0;31mNameError\u001b[0m                                 Traceback (most recent call last)",
      "\u001b[0;32m/var/folders/lt/mq77_h29005b8q_dkwt9pz000000gn/T/ipykernel_6167/1845060322.py\u001b[0m in \u001b[0;36m<module>\u001b[0;34m\u001b[0m\n\u001b[1;32m      1\u001b[0m \u001b[0;31m#What is the average number of pets for students in web development?\u001b[0m\u001b[0;34m\u001b[0m\u001b[0;34m\u001b[0m\u001b[0m\n\u001b[0;32m----> 2\u001b[0;31m \u001b[0;32mfor\u001b[0m \u001b[0mstudent\u001b[0m \u001b[0;32min\u001b[0m \u001b[0mweb_dev_students\u001b[0m\u001b[0;34m:\u001b[0m\u001b[0;34m\u001b[0m\u001b[0;34m\u001b[0m\u001b[0m\n\u001b[0m\u001b[1;32m      3\u001b[0m     \u001b[0mprint\u001b[0m\u001b[0;34m(\u001b[0m\u001b[0mnum_of_pets\u001b[0m\u001b[0;34m)\u001b[0m\u001b[0;34m\u001b[0m\u001b[0;34m\u001b[0m\u001b[0m\n\u001b[1;32m      4\u001b[0m \u001b[0;34m\u001b[0m\u001b[0m\n",
      "\u001b[0;31mNameError\u001b[0m: name 'web_dev_students' is not defined"
     ]
    }
   ],
   "source": [
    "#What is the average number of pets for students in web development?\n",
    "#num_of_pets, lst_courses \n",
    "\n",
    "\n",
    "            "
   ]
  },
  {
   "cell_type": "code",
   "execution_count": 12,
   "id": "836795f8",
   "metadata": {},
   "outputs": [
    {
     "name": "stdout",
     "output_type": "stream",
     "text": [
      "[8, 0, 4, 4, 6, 7, 5, 10, 10, 8, 0, 0, 8, 8, 5, 10, 4, 6]\n"
     ]
    }
   ],
   "source": [
    "#What is the pet age? \n",
    "pet_age = []\n",
    "for i in range(0, 14):\n",
    "    a = students[i][\"pets\"]\n",
    "    if len(a) > 0:\n",
    "     for pet in a:\n",
    "        pet_age.append(pet['age'])\n",
    "print(pet_age)"
   ]
  },
  {
   "cell_type": "code",
   "execution_count": 47,
   "id": "1f309ac5",
   "metadata": {},
   "outputs": [
    {
     "name": "stdout",
     "output_type": "stream",
     "text": [
      "['light', 'medium', 'light', 'dark', 'dark', 'dark', 'dark', 'medium', 'medium', 'medium', 'dark', 'medium', 'light', 'medium']\n"
     ]
    }
   ],
   "source": [
    "students_coffee_preference = []\n",
    "for i in range(0, 14):\n",
    "    listofblends = students[i][\"coffee_preference\"]\n",
    "    students_coffee_preference.append(listofblends)\n",
    "print(students_coffee_preference)\n"
   ]
  },
  {
   "cell_type": "code",
   "execution_count": 48,
   "id": "bceb5f91",
   "metadata": {},
   "outputs": [
    {
     "name": "stdout",
     "output_type": "stream",
     "text": [
      "['web development', 'data science', 'web development', 'data science', 'web development', 'data science', 'web development', 'data science', 'data science', 'web development', 'data science', 'data science', 'web development', 'web development']\n",
      "['data science', 'data science', 'data science', 'data science', 'data science', 'data science', 'data science']\n",
      "['light', 'medium', 'light', 'dark', 'dark', 'dark', 'dark', 'medium', 'medium', 'medium', 'dark', 'medium', 'light', 'medium']\n"
     ]
    },
    {
     "data": {
      "text/plain": [
       "(None, None, None)"
      ]
     },
     "execution_count": 48,
     "metadata": {},
     "output_type": "execute_result"
    }
   ],
   "source": [
    "#What is most frequent coffee preference for data science students?\n",
    "print(lst_courses), print(data_science_students), print(students_coffee_preference)\n",
    "###this obviously needs to be completed but I dont know "
   ]
  },
  {
   "cell_type": "code",
   "execution_count": null,
   "id": "4e741025",
   "metadata": {},
   "outputs": [],
   "source": [
    "#What is the least frequent coffee preference for web development students?\n",
    "print(students_coffee_preference), lst_courses, web_dev_students "
   ]
  },
  {
   "cell_type": "code",
   "execution_count": 49,
   "id": "564b6e07",
   "metadata": {},
   "outputs": [
    {
     "name": "stdout",
     "output_type": "stream",
     "text": [
      "[78.5]\n",
      "[78.5, 83.5]\n",
      "[78.5, 83.5, 73.25]\n",
      "[78.5, 83.5, 73.25, 78.5]\n",
      "[78.5, 83.5, 73.25, 78.5, 81.5]\n",
      "[78.5, 83.5, 73.25, 78.5, 81.5, 80.75]\n",
      "[78.5, 83.5, 73.25, 78.5, 81.5, 80.75, 84.5]\n",
      "[78.5, 83.5, 73.25, 78.5, 81.5, 80.75, 84.5, 88.75]\n",
      "[78.5, 83.5, 73.25, 78.5, 81.5, 80.75, 84.5, 88.75, 88.75]\n",
      "[78.5, 83.5, 73.25, 78.5, 81.5, 80.75, 84.5, 88.75, 88.75, 82.5]\n",
      "[78.5, 83.5, 73.25, 78.5, 81.5, 80.75, 84.5, 88.75, 88.75, 82.5, 81.5]\n",
      "[78.5, 83.5, 73.25, 78.5, 81.5, 80.75, 84.5, 88.75, 88.75, 82.5, 81.5, 91.0]\n",
      "[78.5, 83.5, 73.25, 78.5, 81.5, 80.75, 84.5, 88.75, 88.75, 82.5, 81.5, 91.0, 79.0]\n",
      "[78.5, 83.5, 73.25, 78.5, 81.5, 80.75, 84.5, 88.75, 88.75, 82.5, 81.5, 91.0, 79.0, 89.0]\n"
     ]
    }
   ],
   "source": [
    "student_avg_grade = []\n",
    "for i in range(0, 14): \n",
    "    a = students[i][\"grades\"]\n",
    "    avg = sum(a)/len(a)\n",
    "    student_avg_grade.append(avg)\n",
    "    print(student_avg_grade)\n",
    "###Can't figure out what happened here "
   ]
  },
  {
   "cell_type": "code",
   "execution_count": null,
   "id": "090526cf",
   "metadata": {},
   "outputs": [],
   "source": [
    "#What is the average grade for students with at least 2 pets?\n",
    "num_of_pets, \n",
    "### hopefully once the code above me is fixed it can go right right here "
   ]
  },
  {
   "cell_type": "code",
   "execution_count": 23,
   "id": "8b593c8a",
   "metadata": {},
   "outputs": [
    {
     "ename": "TypeError",
     "evalue": "list indices must be integers or slices, not str",
     "output_type": "error",
     "traceback": [
      "\u001b[0;31m---------------------------------------------------------------------------\u001b[0m",
      "\u001b[0;31mTypeError\u001b[0m                                 Traceback (most recent call last)",
      "\u001b[0;32m/var/folders/lt/mq77_h29005b8q_dkwt9pz000000gn/T/ipykernel_6167/2959190182.py\u001b[0m in \u001b[0;36m<module>\u001b[0;34m\u001b[0m\n\u001b[1;32m      1\u001b[0m \u001b[0;31m#How many students have 3 pets?\u001b[0m\u001b[0;34m\u001b[0m\u001b[0;34m\u001b[0m\u001b[0m\n\u001b[0;32m----> 2\u001b[0;31m \u001b[0;32mfor\u001b[0m \u001b[0mi\u001b[0m \u001b[0;32min\u001b[0m \u001b[0mstudents\u001b[0m\u001b[0;34m[\u001b[0m\u001b[0;34m\"pets\"\u001b[0m\u001b[0;34m]\u001b[0m\u001b[0;34m:\u001b[0m\u001b[0;34m\u001b[0m\u001b[0;34m\u001b[0m\u001b[0m\n\u001b[0m\u001b[1;32m      3\u001b[0m  \u001b[0;32mif\u001b[0m \u001b[0mnum_of_pets\u001b[0m \u001b[0;34m==\u001b[0m \u001b[0;36m3\u001b[0m\u001b[0;34m:\u001b[0m\u001b[0;34m\u001b[0m\u001b[0;34m\u001b[0m\u001b[0m\n\u001b[1;32m      4\u001b[0m   \u001b[0mprint\u001b[0m\u001b[0;34m(\u001b[0m\u001b[0mi\u001b[0m\u001b[0;34m)\u001b[0m\u001b[0;34m\u001b[0m\u001b[0;34m\u001b[0m\u001b[0m\n",
      "\u001b[0;31mTypeError\u001b[0m: list indices must be integers or slices, not str"
     ]
    }
   ],
   "source": [
    "#How many students have 3 pets?\n",
    "counter = \n",
    "For student in students;\n",
    " for pet in pets:\n",
    "        if num_of_pets = 3\n",
    "print"
   ]
  },
  {
   "cell_type": "code",
   "execution_count": 19,
   "id": "0938f926",
   "metadata": {},
   "outputs": [],
   "source": [
    "#What is the average grade for students with 0 pets?\n"
   ]
  },
  {
   "cell_type": "code",
   "execution_count": null,
   "id": "ea829d8d",
   "metadata": {},
   "outputs": [],
   "source": [
    "#What is the average grade for web development students? data science students?"
   ]
  },
  {
   "cell_type": "code",
   "execution_count": null,
   "id": "2007f68d",
   "metadata": {},
   "outputs": [],
   "source": [
    "#What is the average grade range (i.e. highest grade - lowest grade) for dark coffee drinkers?"
   ]
  },
  {
   "cell_type": "code",
   "execution_count": null,
   "id": "6d58cce4",
   "metadata": {},
   "outputs": [],
   "source": [
    "#What is the average number of pets for medium coffee drinkers?"
   ]
  },
  {
   "cell_type": "code",
   "execution_count": null,
   "id": "20b91c4a",
   "metadata": {},
   "outputs": [],
   "source": [
    "#What is the most common type of pet for web development students?"
   ]
  },
  {
   "cell_type": "code",
   "execution_count": 15,
   "id": "50541f81",
   "metadata": {},
   "outputs": [],
   "source": [
    "#What is the average name length?\n"
   ]
  },
  {
   "cell_type": "code",
   "execution_count": null,
   "id": "02bbda5a",
   "metadata": {},
   "outputs": [],
   "source": [
    "#What is the highest pet age for light coffee drinkers?"
   ]
  }
 ],
 "metadata": {
  "kernelspec": {
   "display_name": "Python 3 (ipykernel)",
   "language": "python",
   "name": "python3"
  },
  "language_info": {
   "codemirror_mode": {
    "name": "ipython",
    "version": 3
   },
   "file_extension": ".py",
   "mimetype": "text/x-python",
   "name": "python",
   "nbconvert_exporter": "python",
   "pygments_lexer": "ipython3",
   "version": "3.9.7"
  }
 },
 "nbformat": 4,
 "nbformat_minor": 5
}
