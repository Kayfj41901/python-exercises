{
 "cells": [
  {
   "cell_type": "code",
   "execution_count": 16,
   "id": "06ba103e",
   "metadata": {},
   "outputs": [
    {
     "name": "stdout",
     "output_type": "stream",
     "text": [
      "Saturday\n",
      "Today is not Monday!\n"
     ]
    }
   ],
   "source": [
    "#1a\n",
    "day_of_week = input()\n",
    "if day_of_week == \"Monday\": \n",
    "    print(\"Today is Monday!\")\n",
    "else:\n",
    "    print(\"Today is not Monday!\")"
   ]
  },
  {
   "cell_type": "code",
   "execution_count": null,
   "id": "659db5f3",
   "metadata": {},
   "outputs": [],
   "source": [
    "#1b\n",
    "what_day_is_it = input()\n",
    "if what_day_is_it == [\"Saturday\" or \"Sunday\"]:\n",
    "    print(\"It's the weekend!\")\n",
    "else: \n",
    "    print(\"It is a weekday\")"
   ]
  },
  {
   "cell_type": "code",
   "execution_count": 1,
   "id": "ae4c344b",
   "metadata": {},
   "outputs": [
    {
     "name": "stdout",
     "output_type": "stream",
     "text": [
      "516.0\n"
     ]
    }
   ],
   "source": [
    "#1c\n",
    "num_hours_worked = 40\n",
    "hourly_rate = 12 \n",
    "overtime_rate = 12 * 1.5 \n",
    "overtime_hours = 2\n",
    "paycheck = (num_hours_worked * hourly_rate) + (overtime_rate * overtime_hours) \n",
    "print(paycheck)"
   ]
  },
  {
   "cell_type": "code",
   "execution_count": 12,
   "id": "a788ef8b",
   "metadata": {},
   "outputs": [
    {
     "name": "stdout",
     "output_type": "stream",
     "text": [
      "5\n",
      "6\n",
      "7\n",
      "8\n",
      "9\n",
      "10\n",
      "11\n",
      "12\n",
      "13\n",
      "14\n",
      "15\n"
     ]
    }
   ],
   "source": [
    "#2a\n",
    "i = 5 \n",
    "while i <= 15:\n",
    "    print(i) \n",
    "    i += 1\n",
    "\n",
    "    "
   ]
  },
  {
   "cell_type": "code",
   "execution_count": 2,
   "id": "755c5e1d",
   "metadata": {},
   "outputs": [
    {
     "name": "stdout",
     "output_type": "stream",
     "text": [
      "2\n",
      "4\n",
      "6\n",
      "8\n",
      "10\n",
      "12\n",
      "14\n",
      "16\n",
      "18\n",
      "20\n",
      "22\n",
      "24\n",
      "26\n",
      "28\n",
      "30\n",
      "32\n",
      "34\n",
      "36\n",
      "38\n",
      "40\n",
      "42\n",
      "44\n",
      "46\n",
      "48\n",
      "50\n",
      "52\n",
      "54\n",
      "56\n",
      "58\n",
      "60\n",
      "62\n",
      "64\n",
      "66\n",
      "68\n",
      "70\n",
      "72\n",
      "74\n",
      "76\n",
      "78\n",
      "80\n",
      "82\n",
      "84\n",
      "86\n",
      "88\n",
      "90\n",
      "92\n",
      "94\n",
      "96\n",
      "98\n",
      "100\n"
     ]
    }
   ],
   "source": [
    "#2a\n",
    "i = 0 \n",
    "while i <= 98:\n",
    "    i += 2\n",
    "    print(i)\n",
    "    "
   ]
  },
  {
   "cell_type": "code",
   "execution_count": 3,
   "id": "18d05643",
   "metadata": {},
   "outputs": [
    {
     "name": "stdout",
     "output_type": "stream",
     "text": [
      "100\n",
      "95\n",
      "90\n",
      "85\n",
      "80\n",
      "75\n",
      "70\n",
      "65\n",
      "60\n",
      "55\n",
      "50\n",
      "45\n",
      "40\n",
      "35\n",
      "30\n",
      "25\n",
      "20\n",
      "15\n",
      "10\n",
      "5\n",
      "0\n",
      "-5\n",
      "-10\n"
     ]
    }
   ],
   "source": [
    "#2a\n",
    "\n",
    "for i in range(100, -15, -5):\n",
    "    print(i)"
   ]
  },
  {
   "cell_type": "code",
   "execution_count": 2,
   "id": "1c7d0081",
   "metadata": {},
   "outputs": [
    {
     "name": "stdout",
     "output_type": "stream",
     "text": [
      "2\n",
      "4\n",
      "16\n",
      "256\n",
      "65536\n"
     ]
    }
   ],
   "source": [
    "#2a\n",
    "i = 2 \n",
    "while i < 1000000:\n",
    "    print(i)\n",
    "    i = i ** 2\n",
    "    \n",
    "    "
   ]
  },
  {
   "cell_type": "code",
   "execution_count": 3,
   "id": "a835eb23",
   "metadata": {},
   "outputs": [
    {
     "name": "stdout",
     "output_type": "stream",
     "text": [
      "100\n",
      "95\n",
      "90\n",
      "85\n",
      "80\n",
      "75\n",
      "70\n",
      "65\n",
      "60\n",
      "55\n",
      "50\n",
      "45\n",
      "40\n",
      "35\n",
      "30\n",
      "25\n",
      "20\n",
      "15\n",
      "10\n",
      "5\n"
     ]
    }
   ],
   "source": [
    "#2a\n",
    "i = 100 \n",
    "while i >= 5:\n",
    "    print(i)\n",
    "    i = i - 5\n",
    "    "
   ]
  },
  {
   "cell_type": "code",
   "execution_count": 3,
   "id": "ad41609d",
   "metadata": {},
   "outputs": [
    {
     "name": "stdout",
     "output_type": "stream",
     "text": [
      "7\n",
      "7 x 1 = 7\n",
      "7 x 2 = 14\n",
      "7 x 3 = 21\n",
      "7 x 4 = 28\n",
      "7 x 5 = 35\n",
      "7 x 6 = 42\n",
      "7 x 7 = 49\n",
      "7 x 8 = 56\n",
      "7 x 9 = 63\n",
      "7 x 10 = 70\n"
     ]
    }
   ],
   "source": [
    "#2b\n",
    "int_input = int(input())\n",
    "for i in range(1, 11):\n",
    "    print(f\"{int_input} x {i} = {int_input * i}\")\n",
    "    \n",
    "    \n",
    "    \n",
    "    "
   ]
  },
  {
   "cell_type": "code",
   "execution_count": 8,
   "id": "d31fb6ea",
   "metadata": {},
   "outputs": [
    {
     "name": "stdout",
     "output_type": "stream",
     "text": [
      "\n",
      "1\n",
      "22\n",
      "333\n",
      "4444\n",
      "55555\n",
      "666666\n",
      "7777777\n",
      "88888888\n",
      "999999999\n"
     ]
    }
   ],
   "source": [
    "#2b\n",
    "for i in range(10): \n",
    "    print(str(i)*i)"
   ]
  },
  {
   "cell_type": "code",
   "execution_count": 7,
   "id": "12c6ebbe",
   "metadata": {},
   "outputs": [
    {
     "name": "stdout",
     "output_type": "stream",
     "text": [
      "Please enter odd number between 1 and 50. 2\n",
      "invalid input\n",
      "Please enter and odd number between 1 and 50. 3\n"
     ]
    }
   ],
   "source": [
    "#2b\n",
    "num = input(\"Please enter odd number between 1 and 50. \")\n",
    "\n",
    "while True:\n",
    "    if num.isdigit() == False or int(num)>50 or int(num)<1 or int(num)%2 ==0:\n",
    "        print('invalid input')\n",
    "        num = input('Please enter and odd number between 1 and 50. ')\n",
    "    else:\n",
    "        break\n",
    "\n",
    "num = int(num)\n",
    "\n"
   ]
  },
  {
   "cell_type": "code",
   "execution_count": 6,
   "id": "bcfa7c81",
   "metadata": {},
   "outputs": [
    {
     "ename": "SyntaxError",
     "evalue": "invalid syntax (1428087428.py, line 4)",
     "output_type": "error",
     "traceback": [
      "\u001b[0;36m  File \u001b[0;32m\"/var/folders/lt/mq77_h29005b8q_dkwt9pz000000gn/T/ipykernel_7754/1428087428.py\"\u001b[0;36m, line \u001b[0;32m4\u001b[0m\n\u001b[0;31m    for i in range len(input()):\u001b[0m\n\u001b[0m                   ^\u001b[0m\n\u001b[0;31mSyntaxError\u001b[0m\u001b[0;31m:\u001b[0m invalid syntax\n"
     ]
    }
   ],
   "source": [
    "#2b\n",
    "user_input = int(input(\"Please enter a positive number: \"))\n",
    "count = 0 \n",
    "for i in range len(input()):\n",
    "    while count <= i \n",
    "    counter = count += 1\n",
    "    print(counter)"
   ]
  },
  {
   "cell_type": "code",
   "execution_count": null,
   "id": "14430855",
   "metadata": {},
   "outputs": [],
   "source": [
    "#2b\n",
    "user_input_pos = (\"Please enter a positive number: \" input())"
   ]
  },
  {
   "cell_type": "code",
   "execution_count": 9,
   "id": "72c07566",
   "metadata": {},
   "outputs": [
    {
     "name": "stdout",
     "output_type": "stream",
     "text": [
      "1\n",
      "2\n",
      "3\n",
      "Fizz\n",
      "4\n",
      "5\n",
      "Buzz\n",
      "6\n",
      "Fizz\n",
      "7\n",
      "8\n",
      "9\n",
      "Fizz\n",
      "10\n",
      "Buzz\n",
      "11\n",
      "12\n",
      "Fizz\n",
      "13\n",
      "14\n",
      "15\n",
      "Fizz\n",
      "Buzz\n",
      "FizzBuzz\n",
      "16\n",
      "17\n",
      "18\n",
      "Fizz\n",
      "19\n",
      "20\n",
      "Buzz\n",
      "21\n",
      "Fizz\n",
      "22\n",
      "23\n",
      "24\n",
      "Fizz\n",
      "25\n",
      "Buzz\n",
      "26\n",
      "27\n",
      "Fizz\n",
      "28\n",
      "29\n",
      "30\n",
      "Fizz\n",
      "Buzz\n",
      "FizzBuzz\n",
      "31\n",
      "32\n",
      "33\n",
      "Fizz\n",
      "34\n",
      "35\n",
      "Buzz\n",
      "36\n",
      "Fizz\n",
      "37\n",
      "38\n",
      "39\n",
      "Fizz\n",
      "40\n",
      "Buzz\n",
      "41\n",
      "42\n",
      "Fizz\n",
      "43\n",
      "44\n",
      "45\n",
      "Fizz\n",
      "Buzz\n",
      "FizzBuzz\n",
      "46\n",
      "47\n",
      "48\n",
      "Fizz\n",
      "49\n",
      "50\n",
      "Buzz\n",
      "51\n",
      "Fizz\n",
      "52\n",
      "53\n",
      "54\n",
      "Fizz\n",
      "55\n",
      "Buzz\n",
      "56\n",
      "57\n",
      "Fizz\n",
      "58\n",
      "59\n",
      "60\n",
      "Fizz\n",
      "Buzz\n",
      "FizzBuzz\n",
      "61\n",
      "62\n",
      "63\n",
      "Fizz\n",
      "64\n",
      "65\n",
      "Buzz\n",
      "66\n",
      "Fizz\n",
      "67\n",
      "68\n",
      "69\n",
      "Fizz\n",
      "70\n",
      "Buzz\n",
      "71\n",
      "72\n",
      "Fizz\n",
      "73\n",
      "74\n",
      "75\n",
      "Fizz\n",
      "Buzz\n",
      "FizzBuzz\n",
      "76\n",
      "77\n",
      "78\n",
      "Fizz\n",
      "79\n",
      "80\n",
      "Buzz\n",
      "81\n",
      "Fizz\n",
      "82\n",
      "83\n",
      "84\n",
      "Fizz\n",
      "85\n",
      "Buzz\n",
      "86\n",
      "87\n",
      "Fizz\n",
      "88\n",
      "89\n",
      "90\n",
      "Fizz\n",
      "Buzz\n",
      "FizzBuzz\n",
      "91\n",
      "92\n",
      "93\n",
      "Fizz\n",
      "94\n",
      "95\n",
      "Buzz\n",
      "96\n",
      "Fizz\n",
      "97\n",
      "98\n",
      "99\n",
      "Fizz\n",
      "100\n",
      "Buzz\n"
     ]
    }
   ],
   "source": [
    "#3\n",
    "i = 0 \n",
    "for i in range(100):\n",
    "    new_value = i = i + 1\n",
    "    print(new_value)\n",
    "    if i % 3 == 0:\n",
    "        print(\"Fizz\")\n",
    "    if i % 5 == 0:\n",
    "        print(\"Buzz\")\n",
    "    if i % 3 == 0 and i % 5 == 0:\n",
    "        print(\"FizzBuzz\")"
   ]
  },
  {
   "cell_type": "code",
   "execution_count": null,
   "id": "b92c9fe5",
   "metadata": {},
   "outputs": [],
   "source": [
    "#4 \n",
    "print(\"What number would you like to go up to? \" + input())\n",
    "print(\"Here is your table!\")\n",
    "\n",
    "number = i in range(1, 6)\n",
    "squared = i ** 2\n",
    "cubed = i ** 3 \n",
    "\n",
    "table = [[number, squared, cubed]]\n"
   ]
  },
  {
   "cell_type": "code",
   "execution_count": 13,
   "id": "7a12b6d8",
   "metadata": {},
   "outputs": [
    {
     "ename": "SyntaxError",
     "evalue": "invalid syntax (550644484.py, line 3)",
     "output_type": "error",
     "traceback": [
      "\u001b[0;36m  File \u001b[0;32m\"/var/folders/lt/mq77_h29005b8q_dkwt9pz000000gn/T/ipykernel_7784/550644484.py\"\u001b[0;36m, line \u001b[0;32m3\u001b[0m\n\u001b[0;31m    For grade in student_grade:\u001b[0m\n\u001b[0m        ^\u001b[0m\n\u001b[0;31mSyntaxError\u001b[0m\u001b[0;31m:\u001b[0m invalid syntax\n"
     ]
    }
   ],
   "source": [
    "#5\n",
    "student_grade: int(input(\"Please enter your numerical grade from 0 to 100\"))\n",
    "For grade in student_grade: \n",
    "    if grade between 100 and 88:\n",
    "        return \"A\"\n",
    "    if grade between 87 and 80:\n",
    "        return \"B\"\n",
    "    if grade between 79 and 67:\n",
    "        return \"C\"\n",
    "    if grade between 66 and 60:\n",
    "        return \"D\"\n",
    "    if grade between 59 and 0:\n",
    "        return \"F\"\n"
   ]
  },
  {
   "cell_type": "code",
   "execution_count": null,
   "id": "cddc5f7e",
   "metadata": {},
   "outputs": [],
   "source": [
    "#6 \n"
   ]
  }
 ],
 "metadata": {
  "kernelspec": {
   "display_name": "Python 3 (ipykernel)",
   "language": "python",
   "name": "python3"
  },
  "language_info": {
   "codemirror_mode": {
    "name": "ipython",
    "version": 3
   },
   "file_extension": ".py",
   "mimetype": "text/x-python",
   "name": "python",
   "nbconvert_exporter": "python",
   "pygments_lexer": "ipython3",
   "version": "3.9.7"
  }
 },
 "nbformat": 4,
 "nbformat_minor": 5
}
