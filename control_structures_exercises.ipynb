{
 "cells": [
  {
   "cell_type": "markdown",
   "id": "a289a46e",
   "metadata": {},
   "source": [
    "1. Conditional Basics"
   ]
  },
  {
   "cell_type": "markdown",
   "id": "b3dcafcf",
   "metadata": {},
   "source": [
    "a. Prompt the user for a day of the week, print out whether the day is Monday or not "
   ]
  },
  {
   "cell_type": "code",
   "execution_count": null,
   "id": "06ba103e",
   "metadata": {},
   "outputs": [],
   "source": [
    "day_of_week = input()\n",
    "if day_of_week == \"Monday\": \n",
    "    print(\"Today is Monday!\")\n",
    "else:\n",
    "    print(\"Today is not Monday!\")"
   ]
  },
  {
   "cell_type": "markdown",
   "id": "ad20239c",
   "metadata": {},
   "source": [
    "b. Prompt the user for a day of the week, print out whether the day is a weekday or a weekend "
   ]
  },
  {
   "cell_type": "code",
   "execution_count": null,
   "id": "659db5f3",
   "metadata": {},
   "outputs": [],
   "source": [
    "what_day_is_it = input()\n",
    "if what_day_is_it == [\"Saturday\" or \"Sunday\"]:\n",
    "    print(\"It's the weekend!\")\n",
    "else: \n",
    "    print(\"It is a weekday\")"
   ]
  },
  {
   "cell_type": "markdown",
   "id": "d6df5b87",
   "metadata": {},
   "source": [
    "c. Create variables and make up values for: the number of hours worked in one week, the hourly rate, how much the week's paycheck will be"
   ]
  },
  {
   "cell_type": "code",
   "execution_count": null,
   "id": "ae4c344b",
   "metadata": {},
   "outputs": [],
   "source": [
    "num_hours_worked = 40\n",
    "hourly_rate = 12 \n",
    "overtime_rate = 12 * 1.5 \n",
    "overtime_hours = 2\n",
    "paycheck = (num_hours_worked * hourly_rate) + (overtime_rate * overtime_hours) \n",
    "print(paycheck)"
   ]
  },
  {
   "cell_type": "markdown",
   "id": "0c6cc9c0",
   "metadata": {},
   "source": [
    "2. Loop Basics "
   ]
  },
  {
   "cell_type": "markdown",
   "id": "c571141d",
   "metadata": {},
   "source": [
    "a. While: create an integer variable i with a value of 5, create a while loop that runs so long as i is less than or equal to 15, each loop iteration, output the current value of i, then increment i by one. "
   ]
  },
  {
   "cell_type": "code",
   "execution_count": 1,
   "id": "a788ef8b",
   "metadata": {},
   "outputs": [
    {
     "name": "stdout",
     "output_type": "stream",
     "text": [
      "5\n",
      "6\n",
      "7\n",
      "8\n",
      "9\n",
      "10\n",
      "11\n",
      "12\n",
      "13\n",
      "14\n",
      "15\n"
     ]
    }
   ],
   "source": [
    "i = 5 \n",
    "while i <= 15:\n",
    "    print(i) \n",
    "    i += 1"
   ]
  },
  {
   "cell_type": "markdown",
   "id": "7fd7ca0b",
   "metadata": {},
   "source": [
    "a2. Create a while loop that will count by 2's starting with 0 and ending at 100. Follow each number with a new line. Alter your loop to count backwards by 5's from 100 to -10. Create a while loop that starts at 2, and displays the number squared on each line while the number is less than 1,000,000."
   ]
  },
  {
   "cell_type": "code",
   "execution_count": 3,
   "id": "755c5e1d",
   "metadata": {},
   "outputs": [
    {
     "name": "stdout",
     "output_type": "stream",
     "text": [
      "2\n",
      "4\n",
      "6\n",
      "8\n",
      "10\n",
      "12\n",
      "14\n",
      "16\n",
      "18\n",
      "20\n",
      "22\n",
      "24\n",
      "26\n",
      "28\n",
      "30\n",
      "32\n",
      "34\n",
      "36\n",
      "38\n",
      "40\n",
      "42\n",
      "44\n",
      "46\n",
      "48\n",
      "50\n",
      "52\n",
      "54\n",
      "56\n",
      "58\n",
      "60\n",
      "62\n",
      "64\n",
      "66\n",
      "68\n",
      "70\n",
      "72\n",
      "74\n",
      "76\n",
      "78\n",
      "80\n",
      "82\n",
      "84\n",
      "86\n",
      "88\n",
      "90\n",
      "92\n",
      "94\n",
      "96\n",
      "98\n",
      "100\n"
     ]
    }
   ],
   "source": [
    "i = 0 \n",
    "while i <= 98:\n",
    "    i += 2\n",
    "    print(i)\n",
    "    "
   ]
  },
  {
   "cell_type": "code",
   "execution_count": 2,
   "id": "18d05643",
   "metadata": {},
   "outputs": [
    {
     "name": "stdout",
     "output_type": "stream",
     "text": [
      "100\n",
      "95\n",
      "90\n",
      "85\n",
      "80\n",
      "75\n",
      "70\n",
      "65\n",
      "60\n",
      "55\n",
      "50\n",
      "45\n",
      "40\n",
      "35\n",
      "30\n",
      "25\n",
      "20\n",
      "15\n",
      "10\n",
      "5\n",
      "0\n",
      "-5\n",
      "-10\n"
     ]
    }
   ],
   "source": [
    "for i in range(100, -15, -5):\n",
    "    print(i)"
   ]
  },
  {
   "cell_type": "code",
   "execution_count": 4,
   "id": "1c7d0081",
   "metadata": {},
   "outputs": [
    {
     "name": "stdout",
     "output_type": "stream",
     "text": [
      "2\n",
      "4\n",
      "16\n",
      "256\n",
      "65536\n"
     ]
    }
   ],
   "source": [
    "i = 2 \n",
    "while i < 1000000:\n",
    "    print(i)\n",
    "    i = i ** 2"
   ]
  },
  {
   "cell_type": "markdown",
   "id": "9cfec1f2",
   "metadata": {},
   "source": [
    "Write a loop that uses print to create the output shown below"
   ]
  },
  {
   "cell_type": "code",
   "execution_count": null,
   "id": "a835eb23",
   "metadata": {},
   "outputs": [],
   "source": [
    "i = 100 \n",
    "while i >= 5:\n",
    "    print(i)\n",
    "    i = i - 5\n",
    "    "
   ]
  },
  {
   "cell_type": "markdown",
   "id": "969fefd8",
   "metadata": {},
   "source": [
    "b.i. Write some code that prompts the user for a number, then shows a multiplication table up through 10 for that number."
   ]
  },
  {
   "cell_type": "code",
   "execution_count": 5,
   "id": "ad41609d",
   "metadata": {},
   "outputs": [
    {
     "name": "stdout",
     "output_type": "stream",
     "text": [
      "7\n",
      "7 x 1 = 7\n",
      "7 x 2 = 14\n",
      "7 x 3 = 21\n",
      "7 x 4 = 28\n",
      "7 x 5 = 35\n",
      "7 x 6 = 42\n",
      "7 x 7 = 49\n",
      "7 x 8 = 56\n",
      "7 x 9 = 63\n",
      "7 x 10 = 70\n"
     ]
    }
   ],
   "source": [
    "int_input = int(input())\n",
    "for i in range(1, 11):\n",
    "    print(f\"{int_input} x {i} = {int_input * i}\")\n",
    "    \n",
    "    \n",
    "    \n",
    "    "
   ]
  },
  {
   "cell_type": "code",
   "execution_count": null,
   "id": "12437efd",
   "metadata": {},
   "outputs": [],
   "source": [
    "b.ii. Create a for loop that uses print to create the output shown below. "
   ]
  },
  {
   "cell_type": "code",
   "execution_count": 6,
   "id": "d31fb6ea",
   "metadata": {},
   "outputs": [
    {
     "name": "stdout",
     "output_type": "stream",
     "text": [
      "\n",
      "1\n",
      "22\n",
      "333\n",
      "4444\n",
      "55555\n",
      "666666\n",
      "7777777\n",
      "88888888\n",
      "999999999\n"
     ]
    }
   ],
   "source": [
    "for i in range(10): \n",
    "    print(str(i)*i)"
   ]
  },
  {
   "cell_type": "markdown",
   "id": "566fc6b9",
   "metadata": {},
   "source": [
    "2.c.i Prompt the user for an odd number between 1 and 50. Use a loop and a break statement to continue prompting the user if they enter invalid input. Use a loop and the continue statement to output all the odd numbers between 1 and 50, except for the number the user entered. "
   ]
  },
  {
   "cell_type": "code",
   "execution_count": 7,
   "id": "12c6ebbe",
   "metadata": {},
   "outputs": [
    {
     "name": "stdout",
     "output_type": "stream",
     "text": [
      "Please enter odd number between 1 and 50. 3\n"
     ]
    },
    {
     "ename": "AttributeError",
     "evalue": "'int' object has no attribute 'pop'",
     "output_type": "error",
     "traceback": [
      "\u001b[0;31m---------------------------------------------------------------------------\u001b[0m",
      "\u001b[0;31mAttributeError\u001b[0m                            Traceback (most recent call last)",
      "\u001b[0;32m/var/folders/lt/mq77_h29005b8q_dkwt9pz000000gn/T/ipykernel_13272/3048201264.py\u001b[0m in \u001b[0;36m<module>\u001b[0;34m\u001b[0m\n\u001b[1;32m     12\u001b[0m \u001b[0;34m\u001b[0m\u001b[0m\n\u001b[1;32m     13\u001b[0m \u001b[0;32mfor\u001b[0m \u001b[0mnum\u001b[0m \u001b[0;32min\u001b[0m \u001b[0mrange\u001b[0m\u001b[0;34m(\u001b[0m\u001b[0;36m1\u001b[0m\u001b[0;34m,\u001b[0m \u001b[0;36m50\u001b[0m\u001b[0;34m,\u001b[0m \u001b[0;36m2\u001b[0m\u001b[0;34m)\u001b[0m\u001b[0;34m:\u001b[0m\u001b[0;34m\u001b[0m\u001b[0;34m\u001b[0m\u001b[0m\n\u001b[0;32m---> 14\u001b[0;31m     \u001b[0mnum\u001b[0m\u001b[0;34m.\u001b[0m\u001b[0mpop\u001b[0m\u001b[0;34m(\u001b[0m\u001b[0mnum\u001b[0m\u001b[0;34m)\u001b[0m\u001b[0;34m\u001b[0m\u001b[0;34m\u001b[0m\u001b[0m\n\u001b[0m\u001b[1;32m     15\u001b[0m \u001b[0;31m###Ask how to remove the single number from the list\u001b[0m\u001b[0;34m\u001b[0m\u001b[0;34m\u001b[0m\u001b[0m\n",
      "\u001b[0;31mAttributeError\u001b[0m: 'int' object has no attribute 'pop'"
     ]
    }
   ],
   "source": [
    "num = input(\"Please enter odd number between 1 and 50. \")\n",
    "\n",
    "while True:\n",
    "    if num.isdigit() == False or int(num)>50 or int(num)<1 or int(num)%2 ==0:\n",
    "        print('invalid input')\n",
    "        num = input('Please enter an odd number between 1 and 50. ')\n",
    "    else:\n",
    "        break\n",
    "\n",
    "num = int(num)\n",
    "\n",
    "for num in range(1, 50, 2):\n",
    "    num.pop(num)\n",
    "###Ask how to remove the single number from the list "
   ]
  },
  {
   "cell_type": "markdown",
   "id": "586e9c22",
   "metadata": {},
   "source": [
    "2.d. The input function can be used to prompt for input and used that input in your python code. Prompt the user to enter a positive number and write a loop that counts from 0 to that number. (Hints: first make sure that the value the user entered is a valid number, also ntoe that th iput function returns a string, so you'll need to convert this to a numeric type. )"
   ]
  },
  {
   "cell_type": "code",
   "execution_count": null,
   "id": "bcfa7c81",
   "metadata": {},
   "outputs": [],
   "source": [
    "user_input = input(\"Please enter a positive number: \")\n",
    "count = 0 \n",
    "for i in range len(input()):\n",
    "    while count <= i \n",
    "    counter = count += 1\n",
    "    print(counter)"
   ]
  },
  {
   "cell_type": "markdown",
   "id": "baccb025",
   "metadata": {},
   "source": [
    "2.e. Write a program that prompts the user for a positive integer. Next write a loop that prints out the numbers from the number the user entered down to 1. "
   ]
  },
  {
   "cell_type": "code",
   "execution_count": null,
   "id": "14430855",
   "metadata": {},
   "outputs": [],
   "source": [
    "user_input_pos = (\"Please enter a positive number: \" input())"
   ]
  },
  {
   "cell_type": "markdown",
   "id": "e356caf0",
   "metadata": {},
   "source": [
    "3. Fizzbuzz. Write a program that prints the numbers from 1 to 100: for multiples of three print \"Fizz\", for multiples of five print \"Buzz\", for numbers which are multiples of both three and five print \"Fizzbuzz.\""
   ]
  },
  {
   "cell_type": "code",
   "execution_count": 8,
   "id": "72c07566",
   "metadata": {},
   "outputs": [
    {
     "name": "stdout",
     "output_type": "stream",
     "text": [
      "1\n",
      "2\n",
      "3\n",
      "Fizz\n",
      "4\n",
      "5\n",
      "Buzz\n",
      "6\n",
      "Fizz\n",
      "7\n",
      "8\n",
      "9\n",
      "Fizz\n",
      "10\n",
      "Buzz\n",
      "11\n",
      "12\n",
      "Fizz\n",
      "13\n",
      "14\n",
      "15\n",
      "Fizz\n",
      "Buzz\n",
      "FizzBuzz\n",
      "16\n",
      "17\n",
      "18\n",
      "Fizz\n",
      "19\n",
      "20\n",
      "Buzz\n",
      "21\n",
      "Fizz\n",
      "22\n",
      "23\n",
      "24\n",
      "Fizz\n",
      "25\n",
      "Buzz\n",
      "26\n",
      "27\n",
      "Fizz\n",
      "28\n",
      "29\n",
      "30\n",
      "Fizz\n",
      "Buzz\n",
      "FizzBuzz\n",
      "31\n",
      "32\n",
      "33\n",
      "Fizz\n",
      "34\n",
      "35\n",
      "Buzz\n",
      "36\n",
      "Fizz\n",
      "37\n",
      "38\n",
      "39\n",
      "Fizz\n",
      "40\n",
      "Buzz\n",
      "41\n",
      "42\n",
      "Fizz\n",
      "43\n",
      "44\n",
      "45\n",
      "Fizz\n",
      "Buzz\n",
      "FizzBuzz\n",
      "46\n",
      "47\n",
      "48\n",
      "Fizz\n",
      "49\n",
      "50\n",
      "Buzz\n",
      "51\n",
      "Fizz\n",
      "52\n",
      "53\n",
      "54\n",
      "Fizz\n",
      "55\n",
      "Buzz\n",
      "56\n",
      "57\n",
      "Fizz\n",
      "58\n",
      "59\n",
      "60\n",
      "Fizz\n",
      "Buzz\n",
      "FizzBuzz\n",
      "61\n",
      "62\n",
      "63\n",
      "Fizz\n",
      "64\n",
      "65\n",
      "Buzz\n",
      "66\n",
      "Fizz\n",
      "67\n",
      "68\n",
      "69\n",
      "Fizz\n",
      "70\n",
      "Buzz\n",
      "71\n",
      "72\n",
      "Fizz\n",
      "73\n",
      "74\n",
      "75\n",
      "Fizz\n",
      "Buzz\n",
      "FizzBuzz\n",
      "76\n",
      "77\n",
      "78\n",
      "Fizz\n",
      "79\n",
      "80\n",
      "Buzz\n",
      "81\n",
      "Fizz\n",
      "82\n",
      "83\n",
      "84\n",
      "Fizz\n",
      "85\n",
      "Buzz\n",
      "86\n",
      "87\n",
      "Fizz\n",
      "88\n",
      "89\n",
      "90\n",
      "Fizz\n",
      "Buzz\n",
      "FizzBuzz\n",
      "91\n",
      "92\n",
      "93\n",
      "Fizz\n",
      "94\n",
      "95\n",
      "Buzz\n",
      "96\n",
      "Fizz\n",
      "97\n",
      "98\n",
      "99\n",
      "Fizz\n",
      "100\n",
      "Buzz\n"
     ]
    }
   ],
   "source": [
    "i = 0 \n",
    "for i in range(100):\n",
    "    new_value = i = i + 1\n",
    "    print(new_value)\n",
    "    if i % 3 == 0:\n",
    "        print(\"Fizz\")\n",
    "    if i % 5 == 0:\n",
    "        print(\"Buzz\")\n",
    "    if i % 3 == 0 and i % 5 == 0:\n",
    "        print(\"FizzBuzz\")"
   ]
  },
  {
   "cell_type": "markdown",
   "id": "aa1cde5d",
   "metadata": {},
   "source": [
    "4. Display a table of powers: prompt the user to enter an integer, display a table of squares and cubes from 1 to the value entered, ask if the user wants to continue, assume that the suer will enter valid data, only continue if the user agrees to. "
   ]
  },
  {
   "cell_type": "code",
   "execution_count": null,
   "id": "b92c9fe5",
   "metadata": {},
   "outputs": [],
   "source": [
    "\n",
    "print(\"What number would you like to go up to? \" + input())\n",
    "print(\"Here is your table!\")\n",
    "\n",
    "number = i in range(1, 6)\n",
    "squared = i ** 2\n",
    "cubed = i ** 3 \n",
    "\n",
    "table = [[number, squared, cubed]]\n"
   ]
  },
  {
   "cell_type": "markdown",
   "id": "43f46fd7",
   "metadata": {},
   "source": [
    "Convert given number grades into letter grades. "
   ]
  },
  {
   "cell_type": "code",
   "execution_count": 13,
   "id": "7a12b6d8",
   "metadata": {},
   "outputs": [
    {
     "name": "stdout",
     "output_type": "stream",
     "text": [
      "Please enter your numerical grade from 0 to 10088\n"
     ]
    },
    {
     "ename": "NameError",
     "evalue": "name 'student_grade' is not defined",
     "output_type": "error",
     "traceback": [
      "\u001b[0;31m---------------------------------------------------------------------------\u001b[0m",
      "\u001b[0;31mNameError\u001b[0m                                 Traceback (most recent call last)",
      "\u001b[0;32m/var/folders/lt/mq77_h29005b8q_dkwt9pz000000gn/T/ipykernel_13272/2558842446.py\u001b[0m in \u001b[0;36m<module>\u001b[0;34m\u001b[0m\n\u001b[1;32m      1\u001b[0m \u001b[0mstudent_grade\u001b[0m\u001b[0;34m:\u001b[0m \u001b[0mint\u001b[0m\u001b[0;34m(\u001b[0m\u001b[0minput\u001b[0m\u001b[0;34m(\u001b[0m\u001b[0;34m\"Please enter your numerical grade from 0 to 100\"\u001b[0m\u001b[0;34m)\u001b[0m\u001b[0;34m)\u001b[0m\u001b[0;34m\u001b[0m\u001b[0;34m\u001b[0m\u001b[0m\n\u001b[0;32m----> 2\u001b[0;31m \u001b[0;32mfor\u001b[0m \u001b[0mgrade\u001b[0m \u001b[0;32min\u001b[0m \u001b[0mstudent_grade\u001b[0m\u001b[0;34m:\u001b[0m\u001b[0;34m\u001b[0m\u001b[0;34m\u001b[0m\u001b[0m\n\u001b[0m\u001b[1;32m      3\u001b[0m     \u001b[0;32mif\u001b[0m \u001b[0mgrade\u001b[0m \u001b[0;34m>=\u001b[0m \u001b[0;36m88\u001b[0m \u001b[0;32mand\u001b[0m \u001b[0mgrade\u001b[0m \u001b[0;34m<=\u001b[0m \u001b[0;36m100\u001b[0m\u001b[0;34m:\u001b[0m\u001b[0;34m\u001b[0m\u001b[0;34m\u001b[0m\u001b[0m\n\u001b[1;32m      4\u001b[0m         \u001b[0mprint\u001b[0m\u001b[0;34m(\u001b[0m\u001b[0;34m\"A\"\u001b[0m\u001b[0;34m)\u001b[0m\u001b[0;34m\u001b[0m\u001b[0;34m\u001b[0m\u001b[0m\n\u001b[1;32m      5\u001b[0m     \u001b[0;32melif\u001b[0m \u001b[0mgrade\u001b[0m \u001b[0;34m<=\u001b[0m \u001b[0;36m87\u001b[0m \u001b[0;32mand\u001b[0m \u001b[0mgrade\u001b[0m \u001b[0;34m>=\u001b[0m \u001b[0;36m80\u001b[0m\u001b[0;34m:\u001b[0m\u001b[0;34m\u001b[0m\u001b[0;34m\u001b[0m\u001b[0m\n",
      "\u001b[0;31mNameError\u001b[0m: name 'student_grade' is not defined"
     ]
    }
   ],
   "source": [
    "student_grade: int(input(\"Please enter your numerical grade from 0 to 100\"))\n",
    "for grade in student_grade: \n",
    "    if grade >= 88 and grade <= 100:\n",
    "        print(\"A\")\n",
    "    elif grade <= 87 and grade >= 80:\n",
    "        print(\"B\")\n",
    "    elif grade <= 79  and grade >= 67:\n",
    "        print(\"C\")\n",
    "    elif grade <= 66  and grade >= 60:\n",
    "        print(\"D\")\n",
    "    else:\n",
    "        print(\"F\")\n"
   ]
  },
  {
   "cell_type": "code",
   "execution_count": null,
   "id": "cddc5f7e",
   "metadata": {},
   "outputs": [],
   "source": [
    "6. Create a list of dictionaries where each dictionary represents a book that you have read. Each dictionary "
   ]
  },
  {
   "cell_type": "code",
   "execution_count": null,
   "id": "017d8bf2",
   "metadata": {},
   "outputs": [],
   "source": []
  },
  {
   "cell_type": "code",
   "execution_count": null,
   "id": "aa7c64fc",
   "metadata": {},
   "outputs": [],
   "source": []
  }
 ],
 "metadata": {
  "kernelspec": {
   "display_name": "Python 3 (ipykernel)",
   "language": "python",
   "name": "python3"
  },
  "language_info": {
   "codemirror_mode": {
    "name": "ipython",
    "version": 3
   },
   "file_extension": ".py",
   "mimetype": "text/x-python",
   "name": "python",
   "nbconvert_exporter": "python",
   "pygments_lexer": "ipython3",
   "version": "3.9.7"
  }
 },
 "nbformat": 4,
 "nbformat_minor": 5
}
