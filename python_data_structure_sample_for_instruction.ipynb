{
 "cells": [
  {
   "cell_type": "code",
   "execution_count": null,
   "id": "07a2db09",
   "metadata": {},
   "outputs": [],
   "source": [
    "contractors = [\n",
    "    {\n",
    "        \"id\": \"100001\",\n",
    "        \"name\": \"Kayla Brock\",\n",
    "        \"coffee_preference\": \"dark\",\n",
    "        \"career\": \"web development\",\n",
    "        \"hours_per_week\": [70, 91, 82, 71],\n",
    "        \"pets\": [{\"species\": \"horse\", \"age\": 8}],\n",
    "    },\n",
    "    {\n",
    "        \"id\": \"100002\",\n",
    "        \"name\": \"Aresene Boundaone\",\n",
    "        \"coffee_preference\": \"medium\",\n",
    "        \"career\": \"data science\",\n",
    "        \"hours_per_week\": [75, 73, 86, 100],\n",
    "        \"pets\": [{\"species\": \"dog\", \"age\":2}],\n",
    "    },\n",
    "    {\n",
    "        \"id\": \"100003\",\n",
    "        \"name\": \"Stephen Fitzsimon\",\n",
    "        \"coffee_preference\": \"light\",\n",
    "        \"career\": \"web development\",\n",
    "        \"hours_per_week\": [70, 89, 69, 65],\n",
    "        \"pets\": [{\"species\": \"cat\", \"age\": 5}],\n",
    "    },\n",
    "    {\n",
    "        \"id\": \"100004\",\n",
    "        \"name\": \"Lincoln Murithi\",\n",
    "        \"coffee_preference\": \"dark\",\n",
    "        \"career\": \"data science\",\n",
    "        \"hours_per_week\": [73, 66, 83, 92],\n",
    "        \"pets\": [{\"species\": \"dog\", \"age\": 4}, {\"species\": \"cat\", \"age\": 4}],\n",
    "    },\n",
    "     {\n",
    "        \"id\": \"100014\",\n",
    "        \"name\": \"Jason Turner\",\n",
    "        \"coffee_preference\": \"medium\",\n",
    "        \"career\": \"web development\",\n",
    "        \"hours_per_week\": [73, 99, 86, 98],\n",
    "        \"pets\": [{\"species\": \"dog\", \"age\": 6}],\n",
    "    },\n",
    "]"
   ]
  },
  {
   "cell_type": "code",
   "execution_count": null,
   "id": "687759ac",
   "metadata": {},
   "outputs": [],
   "source": [
    "#How many contractors are there?"
   ]
  }
 ],
 "metadata": {
  "kernelspec": {
   "display_name": "Python 3 (ipykernel)",
   "language": "python",
   "name": "python3"
  },
  "language_info": {
   "codemirror_mode": {
    "name": "ipython",
    "version": 3
   },
   "file_extension": ".py",
   "mimetype": "text/x-python",
   "name": "python",
   "nbconvert_exporter": "python",
   "pygments_lexer": "ipython3",
   "version": "3.9.7"
  }
 },
 "nbformat": 4,
 "nbformat_minor": 5
}
