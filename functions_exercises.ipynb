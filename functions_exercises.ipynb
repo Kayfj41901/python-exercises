{
 "cells": [
  {
   "cell_type": "code",
   "execution_count": 22,
   "id": "9cb9619a",
   "metadata": {},
   "outputs": [
    {
     "name": "stdout",
     "output_type": "stream",
     "text": [
      "False\n"
     ]
    }
   ],
   "source": [
    "#1\n",
    "def is_two(betty):\n",
    "    if betty == 2 or betty == \"2\":\n",
    "        return True\n",
    "    else:\n",
    "        return False\n",
    "print(is_two(5))"
   ]
  },
  {
   "cell_type": "code",
   "execution_count": 27,
   "id": "0d26f4b4",
   "metadata": {},
   "outputs": [
    {
     "name": "stdout",
     "output_type": "stream",
     "text": [
      "False\n"
     ]
    }
   ],
   "source": [
    "#2\n",
    "def is_vowel(charlie):\n",
    "    if charlie in ('aeiouAEIOU'):\n",
    "        return True \n",
    "    else:\n",
    "        return False\n",
    "print(is_vowel('f'))"
   ]
  },
  {
   "cell_type": "code",
   "execution_count": 66,
   "id": "41b6e22c",
   "metadata": {},
   "outputs": [
    {
     "name": "stdout",
     "output_type": "stream",
     "text": [
      "True\n"
     ]
    }
   ],
   "source": [
    "def is_consonant2(abbba):\n",
    "    if is_vowel(abbba):\n",
    "        return False\n",
    "    else: \n",
    "        return True\n",
    "print(is_consonant2('m'))"
   ]
  },
  {
   "cell_type": "code",
   "execution_count": 29,
   "id": "5775bc58",
   "metadata": {},
   "outputs": [
    {
     "name": "stdout",
     "output_type": "stream",
     "text": [
      "False\n"
     ]
    }
   ],
   "source": [
    "#3\n",
    "david = \"v\"\n",
    "def is_consonant(david):\n",
    "    if david not in ('aeiouAEIOU'):\n",
    "        return True \n",
    "    else:\n",
    "        return False\n",
    "print(is_consonant('a'))"
   ]
  },
  {
   "cell_type": "code",
   "execution_count": 33,
   "id": "ecc7510d",
   "metadata": {},
   "outputs": [
    {
     "name": "stdout",
     "output_type": "stream",
     "text": [
      "Max\n"
     ]
    }
   ],
   "source": [
    "#4\n",
    "def cap(ella):\n",
    "    if is_consonant(ella[0]):\n",
    "        return ella.capitalize()\n",
    "print(cap(\"max\"))"
   ]
  },
  {
   "cell_type": "code",
   "execution_count": 34,
   "id": "3063691e",
   "metadata": {},
   "outputs": [
    {
     "name": "stdout",
     "output_type": "stream",
     "text": [
      "122.0\n"
     ]
    }
   ],
   "source": [
    "#5\n",
    "def calculate_tip(tip_percentage, bill_total): \n",
    "    return bill_total * (1 + tip_percentage)\n",
    "print(calculate_tip( .22, 100))"
   ]
  },
  {
   "cell_type": "code",
   "execution_count": 35,
   "id": "a5b93cec",
   "metadata": {},
   "outputs": [
    {
     "name": "stdout",
     "output_type": "stream",
     "text": [
      "62.0\n"
     ]
    }
   ],
   "source": [
    "#6\n",
    "def apply_discount(original_price, discount_percentage):\n",
    "    return original_price * (1 - discount_percentage)\n",
    "print(apply_discount(100, .38))"
   ]
  },
  {
   "cell_type": "code",
   "execution_count": 46,
   "id": "43fe3c52",
   "metadata": {},
   "outputs": [
    {
     "name": "stdout",
     "output_type": "stream",
     "text": [
      "1000000\n"
     ]
    }
   ],
   "source": [
    "#7\n",
    "def handle_commas(foxtrot):\n",
    "    foxtrot = foxtrot.replace(',','')\n",
    "    return foxtrot\n",
    "\n",
    "\n",
    "print(handle_commas('1,000,000'))"
   ]
  },
  {
   "cell_type": "code",
   "execution_count": 52,
   "id": "ab92c06a",
   "metadata": {},
   "outputs": [
    {
     "name": "stdout",
     "output_type": "stream",
     "text": [
      "D\n"
     ]
    }
   ],
   "source": [
    "#8\n",
    "grade = 95\n",
    "def get_letter_grade(grade):\n",
    "    if grade >= 90:\n",
    "        return \"A\"\n",
    "    elif grade >= 80 and grade <= 89:\n",
    "        return \"B\"\n",
    "    elif grade >= 70 and grade <= 79:\n",
    "        return \"c\"\n",
    "    elif grade >= 60 and grade <= 69:\n",
    "        return \"D\"\n",
    "    else: \n",
    "        return \"F\"\n",
    "print(get_letter_grade(62))"
   ]
  },
  {
   "cell_type": "code",
   "execution_count": 53,
   "id": "2d923a28",
   "metadata": {},
   "outputs": [
    {
     "name": "stdout",
     "output_type": "stream",
     "text": [
      "Hrrsn\n"
     ]
    }
   ],
   "source": [
    "#9\n",
    "def remove_vowels(x):\n",
    "  for i in \"aeiouAEIOU\":\n",
    "    x = x.replace(i,\"\")\n",
    "  return x\n",
    "print(remove_vowels('Harrison'))"
   ]
  },
  {
   "cell_type": "code",
   "execution_count": 55,
   "id": "fe966beb",
   "metadata": {},
   "outputs": [
    {
     "ename": "TypeError",
     "evalue": "unhashable type: 'list'",
     "output_type": "error",
     "traceback": [
      "\u001b[0;31m---------------------------------------------------------------------------\u001b[0m",
      "\u001b[0;31mTypeError\u001b[0m                                 Traceback (most recent call last)",
      "\u001b[0;32m/var/folders/lt/mq77_h29005b8q_dkwt9pz000000gn/T/ipykernel_8752/277208832.py\u001b[0m in \u001b[0;36m<module>\u001b[0;34m\u001b[0m\n\u001b[1;32m     13\u001b[0m             \u001b[0;32mreturn\u001b[0m \u001b[0mx\u001b[0m\u001b[0;34m\u001b[0m\u001b[0;34m\u001b[0m\u001b[0m\n\u001b[1;32m     14\u001b[0m \u001b[0;34m\u001b[0m\u001b[0m\n\u001b[0;32m---> 15\u001b[0;31m \u001b[0mprint\u001b[0m\u001b[0;34m(\u001b[0m\u001b[0mnormalize_name\u001b[0m\u001b[0;34m(\u001b[0m\u001b[0;34m'%#&$%none KayBay'\u001b[0m\u001b[0;34m)\u001b[0m\u001b[0;34m)\u001b[0m\u001b[0;34m\u001b[0m\u001b[0;34m\u001b[0m\u001b[0m\n\u001b[0m",
      "\u001b[0;32m/var/folders/lt/mq77_h29005b8q_dkwt9pz000000gn/T/ipykernel_8752/277208832.py\u001b[0m in \u001b[0;36mnormalize_name\u001b[0;34m(x)\u001b[0m\n\u001b[1;32m      5\u001b[0m \u001b[0;31m###can't only contain digits\u001b[0m\u001b[0;34m\u001b[0m\u001b[0;34m\u001b[0m\u001b[0m\n\u001b[1;32m      6\u001b[0m \u001b[0;32mdef\u001b[0m \u001b[0mnormalize_name\u001b[0m\u001b[0;34m(\u001b[0m\u001b[0mx\u001b[0m\u001b[0;34m)\u001b[0m\u001b[0;34m:\u001b[0m\u001b[0;34m\u001b[0m\u001b[0;34m\u001b[0m\u001b[0m\n\u001b[0;32m----> 7\u001b[0;31m     \u001b[0mx\u001b[0m \u001b[0;34m=\u001b[0m \u001b[0mx\u001b[0m\u001b[0;34m.\u001b[0m\u001b[0mreplace\u001b[0m\u001b[0;34m(\u001b[0m\u001b[0;34m{\u001b[0m\u001b[0mbad_words\u001b[0m\u001b[0;34m}\u001b[0m\u001b[0;34m,\u001b[0m \u001b[0;34m'    '\u001b[0m\u001b[0;34m)\u001b[0m\u001b[0;34m\u001b[0m\u001b[0;34m\u001b[0m\u001b[0m\n\u001b[0m\u001b[1;32m      8\u001b[0m     \u001b[0mstrip\u001b[0m\u001b[0;34m(\u001b[0m\u001b[0mx\u001b[0m\u001b[0;34m)\u001b[0m\u001b[0;34m\u001b[0m\u001b[0;34m\u001b[0m\u001b[0m\n\u001b[1;32m      9\u001b[0m     \u001b[0mx\u001b[0m \u001b[0;34m=\u001b[0m \u001b[0mx\u001b[0m\u001b[0;34m.\u001b[0m\u001b[0mreplace\u001b[0m\u001b[0;34m(\u001b[0m\u001b[0;34m'  '\u001b[0m\u001b[0;34m,\u001b[0m \u001b[0;34m'__'\u001b[0m\u001b[0;34m)\u001b[0m\u001b[0;34m\u001b[0m\u001b[0;34m\u001b[0m\u001b[0m\n",
      "\u001b[0;31mTypeError\u001b[0m: unhashable type: 'list'"
     ]
    }
   ],
   "source": [
    "#10\n",
    "bad_words = [\"False\", \"None\", \"True\", \"and\", \"as\", \"assert\", \"async\", \"await\", \"break\", \"class\", \"continue\", \"def\", \"del\", \"elif\", \"else\", \"except\", \"finally\", \"for\", \"from\", \"global\", \"if\", \"import\", \"in\", \"is\", \"lambda\", \"nonl]ocal\", \"not\"]\n",
    "#x[0] = not int or float\n",
    "# possibly x = x.str.replace([{bad_words}, \"    \")\n",
    "###can't only contain digits \n",
    "def normalize_name(x):\n",
    "    x = x.replace({bad_words}, '    ')\n",
    "    strip(x)\n",
    "    x = x.replace('  ', '__')\n",
    "    for i in x:\n",
    "        if i in \"!@#$%^&*\":\n",
    "            x.replace(char, \" \")\n",
    "            return x\n",
    "            \n",
    "print(normalize_name('%#&$%none KayBay'))"
   ]
  },
  {
   "cell_type": "code",
   "execution_count": 57,
   "id": "68fd101c",
   "metadata": {},
   "outputs": [
    {
     "ename": "TypeError",
     "evalue": "'int' object is not iterable",
     "output_type": "error",
     "traceback": [
      "\u001b[0;31m---------------------------------------------------------------------------\u001b[0m",
      "\u001b[0;31mTypeError\u001b[0m                                 Traceback (most recent call last)",
      "\u001b[0;32m/var/folders/lt/mq77_h29005b8q_dkwt9pz000000gn/T/ipykernel_8752/144613342.py\u001b[0m in \u001b[0;36m<module>\u001b[0;34m\u001b[0m\n\u001b[1;32m      7\u001b[0m         \u001b[0mresult\u001b[0m\u001b[0;34m.\u001b[0m\u001b[0mappend\u001b[0m\u001b[0;34m(\u001b[0m\u001b[0mtotal\u001b[0m\u001b[0;34m)\u001b[0m\u001b[0;34m\u001b[0m\u001b[0;34m\u001b[0m\u001b[0m\n\u001b[1;32m      8\u001b[0m     \u001b[0;32mreturn\u001b[0m \u001b[0mresult\u001b[0m\u001b[0;34m\u001b[0m\u001b[0;34m\u001b[0m\u001b[0m\n\u001b[0;32m----> 9\u001b[0;31m \u001b[0mprint\u001b[0m\u001b[0;34m(\u001b[0m\u001b[0mcumulative_sum\u001b[0m\u001b[0;34m(\u001b[0m\u001b[0;36m1\u001b[0m\u001b[0;34m)\u001b[0m\u001b[0;34m)\u001b[0m\u001b[0;34m\u001b[0m\u001b[0;34m\u001b[0m\u001b[0m\n\u001b[0m",
      "\u001b[0;32m/var/folders/lt/mq77_h29005b8q_dkwt9pz000000gn/T/ipykernel_8752/144613342.py\u001b[0m in \u001b[0;36mcumulative_sum\u001b[0;34m(ada)\u001b[0m\n\u001b[1;32m      3\u001b[0m     \u001b[0mtotal\u001b[0m \u001b[0;34m=\u001b[0m \u001b[0;36m0\u001b[0m\u001b[0;34m\u001b[0m\u001b[0;34m\u001b[0m\u001b[0m\n\u001b[1;32m      4\u001b[0m     \u001b[0mresult\u001b[0m \u001b[0;34m=\u001b[0m \u001b[0;34m[\u001b[0m\u001b[0;34m]\u001b[0m\u001b[0;34m\u001b[0m\u001b[0;34m\u001b[0m\u001b[0m\n\u001b[0;32m----> 5\u001b[0;31m     \u001b[0;32mfor\u001b[0m \u001b[0mi\u001b[0m \u001b[0;32min\u001b[0m \u001b[0mada\u001b[0m\u001b[0;34m:\u001b[0m\u001b[0;34m\u001b[0m\u001b[0;34m\u001b[0m\u001b[0m\n\u001b[0m\u001b[1;32m      6\u001b[0m         \u001b[0mtotal\u001b[0m \u001b[0;34m+=\u001b[0m \u001b[0mada\u001b[0m\u001b[0;34m\u001b[0m\u001b[0;34m\u001b[0m\u001b[0m\n\u001b[1;32m      7\u001b[0m         \u001b[0mresult\u001b[0m\u001b[0;34m.\u001b[0m\u001b[0mappend\u001b[0m\u001b[0;34m(\u001b[0m\u001b[0mtotal\u001b[0m\u001b[0;34m)\u001b[0m\u001b[0;34m\u001b[0m\u001b[0;34m\u001b[0m\u001b[0m\n",
      "\u001b[0;31mTypeError\u001b[0m: 'int' object is not iterable"
     ]
    }
   ],
   "source": [
    "#11\n",
    "def cumulative_sum(ada):\n",
    "    total = 0 \n",
    "    result = []\n",
    "    for i in ada:\n",
    "        total += ada\n",
    "        result.append(total)\n",
    "    return result \n",
    "print(cumulative_sum(1))"
   ]
  },
  {
   "cell_type": "code",
   "execution_count": null,
   "id": "dd7972d8",
   "metadata": {},
   "outputs": [],
   "source": []
  }
 ],
 "metadata": {
  "kernelspec": {
   "display_name": "Python 3 (ipykernel)",
   "language": "python",
   "name": "python3"
  },
  "language_info": {
   "codemirror_mode": {
    "name": "ipython",
    "version": 3
   },
   "file_extension": ".py",
   "mimetype": "text/x-python",
   "name": "python",
   "nbconvert_exporter": "python",
   "pygments_lexer": "ipython3",
   "version": "3.9.7"
  }
 },
 "nbformat": 4,
 "nbformat_minor": 5
}
